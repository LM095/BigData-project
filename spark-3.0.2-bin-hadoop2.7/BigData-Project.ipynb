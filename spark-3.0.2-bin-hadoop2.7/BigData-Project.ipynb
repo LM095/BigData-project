{
 "cells": [
  {
   "cell_type": "code",
   "execution_count": 1,
   "metadata": {
    "ExecuteTime": {
     "end_time": "2021-04-19T15:44:12.169839Z",
     "start_time": "2021-04-19T15:44:07.550607Z"
    }
   },
   "outputs": [
    {
     "data": {
      "text/html": [
       "<table border='1'>\n",
       "<tr><th>mid</th><th>title</th><th>year</th><th>rating</th><th>num_ratings</th></tr>\n",
       "<tr><td>1</td><td>Toy story</td><td>1995</td><td>3.7</td><td>102338</td></tr>\n",
       "<tr><td>2</td><td>Jumanji</td><td>1995</td><td>3.2</td><td>44587</td></tr>\n",
       "<tr><td>3</td><td>Grumpy Old Men</td><td>1993</td><td>3.2</td><td>10489</td></tr>\n",
       "<tr><td>4</td><td>Waiting to Exhale</td><td>1995</td><td>3.3</td><td>5666</td></tr>\n",
       "<tr><td>5</td><td>Father of the Bri...</td><td>1995</td><td>3</td><td>13761</td></tr>\n",
       "<tr><td>6</td><td>Heat</td><td>1995</td><td>3.9</td><td>42785</td></tr>\n",
       "<tr><td>7</td><td>Sabrina</td><td>1954</td><td>3.8</td><td>12812</td></tr>\n",
       "<tr><td>8</td><td>Tom and Huck</td><td>1995</td><td>2.7</td><td>2649</td></tr>\n",
       "<tr><td>9</td><td>Sudden Death</td><td>1995</td><td>2.6</td><td>3626</td></tr>\n",
       "<tr><td>10</td><td>GoldenEye</td><td>1995</td><td>3.4</td><td>28260</td></tr>\n",
       "<tr><td>11</td><td>The American Pres...</td><td>1995</td><td>3.2</td><td>8320</td></tr>\n",
       "<tr><td>12</td><td>Dracula: Dead and...</td><td>1995</td><td>2.8</td><td>10078</td></tr>\n",
       "<tr><td>13</td><td>Balto</td><td>1995</td><td>3.2</td><td>9195</td></tr>\n",
       "<tr><td>14</td><td>Nixon</td><td>1995</td><td>3.5</td><td>3256</td></tr>\n",
       "<tr><td>15</td><td>Cutthroat Island</td><td>1995</td><td>2.6</td><td>3350</td></tr>\n",
       "<tr><td>16</td><td>Casino</td><td>1995</td><td>3.9</td><td>66463</td></tr>\n",
       "<tr><td>17</td><td>Sense and Sensibi...</td><td>1995</td><td>3.8</td><td>32782</td></tr>\n",
       "<tr><td>18</td><td>Four Rooms</td><td>1995</td><td>3.5</td><td>14266</td></tr>\n",
       "<tr><td>19</td><td>Ace Ventura: When...</td><td>1995</td><td>3.2</td><td>87306</td></tr>\n",
       "<tr><td>20</td><td>Money Train</td><td>1995</td><td>2.7</td><td>5263</td></tr>\n",
       "</table>\n",
       "only showing top 20 rows\n"
      ],
      "text/plain": [
       "+---+--------------------+----+------+-----------+\n",
       "|mid|               title|year|rating|num_ratings|\n",
       "+---+--------------------+----+------+-----------+\n",
       "|  1|           Toy story|1995|   3.7|     102338|\n",
       "|  2|             Jumanji|1995|   3.2|      44587|\n",
       "|  3|      Grumpy Old Men|1993|   3.2|      10489|\n",
       "|  4|   Waiting to Exhale|1995|   3.3|       5666|\n",
       "|  5|Father of the Bri...|1995|     3|      13761|\n",
       "|  6|                Heat|1995|   3.9|      42785|\n",
       "|  7|             Sabrina|1954|   3.8|      12812|\n",
       "|  8|        Tom and Huck|1995|   2.7|       2649|\n",
       "|  9|        Sudden Death|1995|   2.6|       3626|\n",
       "| 10|           GoldenEye|1995|   3.4|      28260|\n",
       "| 11|The American Pres...|1995|   3.2|       8320|\n",
       "| 12|Dracula: Dead and...|1995|   2.8|      10078|\n",
       "| 13|               Balto|1995|   3.2|       9195|\n",
       "| 14|               Nixon|1995|   3.5|       3256|\n",
       "| 15|    Cutthroat Island|1995|   2.6|       3350|\n",
       "| 16|              Casino|1995|   3.9|      66463|\n",
       "| 17|Sense and Sensibi...|1995|   3.8|      32782|\n",
       "| 18|          Four Rooms|1995|   3.5|      14266|\n",
       "| 19|Ace Ventura: When...|1995|   3.2|      87306|\n",
       "| 20|         Money Train|1995|   2.7|       5263|\n",
       "+---+--------------------+----+------+-----------+\n",
       "only showing top 20 rows"
      ]
     },
     "execution_count": 1,
     "metadata": {},
     "output_type": "execute_result"
    }
   ],
   "source": [
    "import csv\n",
    "from pyspark.sql.functions import min, max, col, when, lit, udf\n",
    "from pyspark.sql.types import StructType,StructField, StringType\n",
    "from pyspark.sql import Row\n",
    "import pandas as pd\n",
    "pd.set_option('max_columns', None)\n",
    "\n",
    "spark = SparkSession.builder.getOrCreate()\n",
    "spark.conf.set('spark.sql.repl.eagerEval.enabled', True)\n",
    "\n",
    "\n",
    "# load the data\n",
    "movies_file = sc.textFile(\"dataset/movies.csv\")\n",
    "genres_file = sc.textFile(\"dataset/genres.csv\")\n",
    "actors_file = sc.textFile(\"dataset/actors.csv\")\n",
    "tagNames_file = sc.textFile(\"dataset/tag_names.csv\")\n",
    "tags_file = sc.textFile(\"dataset/tags.csv\")\n",
    "\n",
    "# we separate the fields for each table in csv format\n",
    "data_movies = movies_file.map(lambda row: next(csv.reader(row.splitlines(), skipinitialspace=True)))\n",
    "data_genres = genres_file.map(lambda row: next(csv.reader(row.splitlines(), skipinitialspace=True)))\n",
    "data_actors = actors_file.map(lambda row: next(csv.reader(row.splitlines(), skipinitialspace=True)))\n",
    "data_tagNames = tagNames_file.map(lambda row: next(csv.reader(row.splitlines(), skipinitialspace=True)))\n",
    "data_tags = tags_file.map(lambda row: next(csv.reader(row.splitlines(), skipinitialspace=True)))\n",
    "\n",
    "# we create the dataframe for each data generated\n",
    "table_movies = spark.createDataFrame(data_movies, ['mid', 'title','year','rating','num_ratings'])\n",
    "table_genres = spark.createDataFrame(data_genres, ['mid', 'genre'])\n",
    "table_actors = spark.createDataFrame(data_actors, ['mid', 'name', 'cast_position'])\n",
    "table_tagNames = spark.createDataFrame(data_tagNames, ['tid', 'tag'])\n",
    "table_tags = spark.createDataFrame(data_tags, ['mid', 'tid'])\n",
    "\n",
    "# create an alias for each table\n",
    "movies = table_movies.alias('movies')\n",
    "genres = table_genres.alias('genres')\n",
    "actors = table_actors.alias('actors')\n",
    "tagNames = table_tagNames.alias('tagNames')\n",
    "tags = table_tags.alias('tags')\n",
    "\n",
    "# we mantain the tables in cache\n",
    "\n",
    "genres.persist()\n",
    "tagNames.persist()\n",
    "tags.persist()\n",
    "movies.persist()\n",
    "actors.persist()\n",
    "movies.persist()"
   ]
  },
  {
   "cell_type": "markdown",
   "metadata": {},
   "source": [
    "### 1. Print all movie titles starring ‘Daniel Craig’, sorted in an ascending alphabetical order."
   ]
  },
  {
   "cell_type": "code",
   "execution_count": 33,
   "metadata": {
    "ExecuteTime": {
     "end_time": "2021-04-11T13:07:21.140515Z",
     "start_time": "2021-04-11T13:07:20.814727Z"
    },
    "scrolled": false
   },
   "outputs": [
    {
     "data": {
      "text/html": [
       "<table border='1'>\n",
       "<tr><th>title</th></tr>\n",
       "<tr><td>A Kid in King Art...</td></tr>\n",
       "<tr><td>Archangel</td></tr>\n",
       "<tr><td>Casino Royale</td></tr>\n",
       "<tr><td>Casino Royale</td></tr>\n",
       "<tr><td>Elizabeth</td></tr>\n",
       "<tr><td>Enduring Love</td></tr>\n",
       "<tr><td>Infamous</td></tr>\n",
       "<tr><td>Lara Croft: Tomb ...</td></tr>\n",
       "<tr><td>Layer Cake</td></tr>\n",
       "<tr><td>Munich</td></tr>\n",
       "<tr><td>Quantum of Solace</td></tr>\n",
       "<tr><td>Renaissance</td></tr>\n",
       "<tr><td>Road to Perdition</td></tr>\n",
       "<tr><td>Sorstalanság</td></tr>\n",
       "<tr><td>Sylvia</td></tr>\n",
       "<tr><td>The Golden Compass</td></tr>\n",
       "<tr><td>The Invasion</td></tr>\n",
       "<tr><td>The Jacket</td></tr>\n",
       "<tr><td>The Mother</td></tr>\n",
       "<tr><td>The Mother</td></tr>\n",
       "</table>\n",
       "only showing top 20 rows\n"
      ],
      "text/plain": [
       "+--------------------+\n",
       "|               title|\n",
       "+--------------------+\n",
       "|A Kid in King Art...|\n",
       "|           Archangel|\n",
       "|       Casino Royale|\n",
       "|       Casino Royale|\n",
       "|           Elizabeth|\n",
       "|       Enduring Love|\n",
       "|            Infamous|\n",
       "|Lara Croft: Tomb ...|\n",
       "|          Layer Cake|\n",
       "|              Munich|\n",
       "|   Quantum of Solace|\n",
       "|         Renaissance|\n",
       "|   Road to Perdition|\n",
       "|        Sorstalanság|\n",
       "|              Sylvia|\n",
       "|  The Golden Compass|\n",
       "|        The Invasion|\n",
       "|          The Jacket|\n",
       "|          The Mother|\n",
       "|          The Mother|\n",
       "+--------------------+\n",
       "only showing top 20 rows"
      ]
     },
     "execution_count": 33,
     "metadata": {},
     "output_type": "execute_result"
    }
   ],
   "source": [
    "movies_with_actors = movies.join(actors, movies.mid == actors.mid)\n",
    "movies_title_actors = movies_with_actors.select('title','name')\n",
    "movies_with_Craig = movies_title_actors.filter(movies_title_actors.name == 'Daniel Craig').sort(movies_title_actors.title.asc()).select('title')\n",
    "movies_with_Craig"
   ]
  },
  {
   "cell_type": "code",
   "execution_count": 34,
   "metadata": {
    "ExecuteTime": {
     "end_time": "2021-04-11T13:09:23.849634Z",
     "start_time": "2021-04-11T13:09:21.716586Z"
    }
   },
   "outputs": [
    {
     "data": {
      "text/html": [
       "<table border='1'>\n",
       "<tr><th>title</th></tr>\n",
       "<tr><td>A Kid in King Art...</td></tr>\n",
       "<tr><td>Archangel</td></tr>\n",
       "<tr><td>Casino Royale</td></tr>\n",
       "<tr><td>Casino Royale</td></tr>\n",
       "<tr><td>Elizabeth</td></tr>\n",
       "<tr><td>Enduring Love</td></tr>\n",
       "<tr><td>Infamous</td></tr>\n",
       "<tr><td>Lara Croft: Tomb ...</td></tr>\n",
       "<tr><td>Layer Cake</td></tr>\n",
       "<tr><td>Munich</td></tr>\n",
       "<tr><td>Quantum of Solace</td></tr>\n",
       "<tr><td>Renaissance</td></tr>\n",
       "<tr><td>Road to Perdition</td></tr>\n",
       "<tr><td>Sorstalanság</td></tr>\n",
       "<tr><td>Sylvia</td></tr>\n",
       "<tr><td>The Golden Compass</td></tr>\n",
       "<tr><td>The Invasion</td></tr>\n",
       "<tr><td>The Jacket</td></tr>\n",
       "<tr><td>The Mother</td></tr>\n",
       "<tr><td>The Mother</td></tr>\n",
       "</table>\n",
       "only showing top 20 rows\n"
      ],
      "text/plain": [
       "+--------------------+\n",
       "|               title|\n",
       "+--------------------+\n",
       "|A Kid in King Art...|\n",
       "|           Archangel|\n",
       "|       Casino Royale|\n",
       "|       Casino Royale|\n",
       "|           Elizabeth|\n",
       "|       Enduring Love|\n",
       "|            Infamous|\n",
       "|Lara Croft: Tomb ...|\n",
       "|          Layer Cake|\n",
       "|              Munich|\n",
       "|   Quantum of Solace|\n",
       "|         Renaissance|\n",
       "|   Road to Perdition|\n",
       "|        Sorstalanság|\n",
       "|              Sylvia|\n",
       "|  The Golden Compass|\n",
       "|        The Invasion|\n",
       "|          The Jacket|\n",
       "|          The Mother|\n",
       "|          The Mother|\n",
       "+--------------------+\n",
       "only showing top 20 rows"
      ]
     },
     "execution_count": 34,
     "metadata": {},
     "output_type": "execute_result"
    }
   ],
   "source": [
    "movies_with_actors = movies.join(actors, movies.mid == actors.mid)\n",
    "reduced_movies = movies_with_actors.rdd.map(lambda x: (x.name,x.title)).filter(lambda x: (x[0] == 'Daniel Craig'))\n",
    "movies_with_Craig = reduced_movies.toDF().withColumnRenamed('_1','name').withColumnRenamed('_2','title').select('title')\n",
    "movies_with_Craig.sort(movies_with_Craig.title.asc())"
   ]
  },
  {
   "cell_type": "markdown",
   "metadata": {},
   "source": [
    "### 2. Print names of the cast of the movie ‘The Dark Knight’ in an ascending alphabetical order."
   ]
  },
  {
   "cell_type": "code",
   "execution_count": 32,
   "metadata": {
    "ExecuteTime": {
     "end_time": "2021-04-11T12:59:48.819221Z",
     "start_time": "2021-04-11T12:59:44.917669Z"
    }
   },
   "outputs": [
    {
     "data": {
      "text/html": [
       "<div>\n",
       "<style scoped>\n",
       "    .dataframe tbody tr th:only-of-type {\n",
       "        vertical-align: middle;\n",
       "    }\n",
       "\n",
       "    .dataframe tbody tr th {\n",
       "        vertical-align: top;\n",
       "    }\n",
       "\n",
       "    .dataframe thead th {\n",
       "        text-align: right;\n",
       "    }\n",
       "</style>\n",
       "<table border=\"1\" class=\"dataframe\">\n",
       "  <thead>\n",
       "    <tr style=\"text-align: right;\">\n",
       "      <th></th>\n",
       "      <th>name</th>\n",
       "    </tr>\n",
       "  </thead>\n",
       "  <tbody>\n",
       "    <tr>\n",
       "      <td>0</td>\n",
       "      <td>Aaron Eckhart</td>\n",
       "    </tr>\n",
       "    <tr>\n",
       "      <td>1</td>\n",
       "      <td>Adam Kalesperis</td>\n",
       "    </tr>\n",
       "    <tr>\n",
       "      <td>2</td>\n",
       "      <td>Aidan Feore</td>\n",
       "    </tr>\n",
       "    <tr>\n",
       "      <td>3</td>\n",
       "      <td>Andrew Bicknell</td>\n",
       "    </tr>\n",
       "    <tr>\n",
       "      <td>4</td>\n",
       "      <td>Andy Luther</td>\n",
       "    </tr>\n",
       "    <tr>\n",
       "      <td>...</td>\n",
       "      <td>...</td>\n",
       "    </tr>\n",
       "    <tr>\n",
       "      <td>86</td>\n",
       "      <td>Walter Lewis</td>\n",
       "    </tr>\n",
       "    <tr>\n",
       "      <td>87</td>\n",
       "      <td>Will Zahrn</td>\n",
       "    </tr>\n",
       "    <tr>\n",
       "      <td>88</td>\n",
       "      <td>William Armstrong</td>\n",
       "    </tr>\n",
       "    <tr>\n",
       "      <td>89</td>\n",
       "      <td>William Fichtner</td>\n",
       "    </tr>\n",
       "    <tr>\n",
       "      <td>90</td>\n",
       "      <td>Winston Ellis</td>\n",
       "    </tr>\n",
       "  </tbody>\n",
       "</table>\n",
       "<p>91 rows × 1 columns</p>\n",
       "</div>"
      ],
      "text/plain": [
       "                 name\n",
       "0       Aaron Eckhart\n",
       "1     Adam Kalesperis\n",
       "2         Aidan Feore\n",
       "3     Andrew Bicknell\n",
       "4         Andy Luther\n",
       "..                ...\n",
       "86       Walter Lewis\n",
       "87         Will Zahrn\n",
       "88  William Armstrong\n",
       "89   William Fichtner\n",
       "90      Winston Ellis\n",
       "\n",
       "[91 rows x 1 columns]"
      ]
     },
     "execution_count": 32,
     "metadata": {},
     "output_type": "execute_result"
    }
   ],
   "source": [
    "movies_with_actors = movies.join(actors, movies.mid == actors.mid)\n",
    "reduced_movies = movies_with_actors.rdd.map(lambda x: (x.name,x.title)).filter(lambda x: (x[1] == 'The Dark Knight'))\n",
    "cast_TheDarkKnight = reduced_movies.toDF().withColumnRenamed('_1','name').withColumnRenamed('_2','title').select('name')\n",
    "cast_TheDarkKnight.sort(cast_TheDarkKnight.name.asc()).toPandas()"
   ]
  },
  {
   "cell_type": "code",
   "execution_count": 110,
   "metadata": {},
   "outputs": [
    {
     "data": {
      "text/html": [
       "<table border='1'>\n",
       "<tr><th>name</th></tr>\n",
       "<tr><td>Aaron Eckhart</td></tr>\n",
       "<tr><td>Adam Kalesperis</td></tr>\n",
       "<tr><td>Aidan Feore</td></tr>\n",
       "<tr><td>Andrew Bicknell</td></tr>\n",
       "<tr><td>Andy Luther</td></tr>\n",
       "<tr><td>Anthony Michael Hall</td></tr>\n",
       "<tr><td>Ariyon Bakare</td></tr>\n",
       "<tr><td>Beatrice Rosen</td></tr>\n",
       "<tr><td>Bill Smille</td></tr>\n",
       "<tr><td>Brandon Lambdin</td></tr>\n",
       "<tr><td>Bronson Webb</td></tr>\n",
       "<tr><td>Chin Han</td></tr>\n",
       "<tr><td>Christian Bale</td></tr>\n",
       "<tr><td>Chucky Venn</td></tr>\n",
       "<tr><td>Cillian Murphy</td></tr>\n",
       "<tr><td>Colin McFarlane</td></tr>\n",
       "<tr><td>Craig Heaney</td></tr>\n",
       "<tr><td>Crhis Perschler</td></tr>\n",
       "<tr><td>Dale RIvera</td></tr>\n",
       "<tr><td>Daryl Satcher</td></tr>\n",
       "</table>\n",
       "only showing top 20 rows\n"
      ],
      "text/plain": [
       "+--------------------+\n",
       "|                name|\n",
       "+--------------------+\n",
       "|       Aaron Eckhart|\n",
       "|     Adam Kalesperis|\n",
       "|         Aidan Feore|\n",
       "|     Andrew Bicknell|\n",
       "|         Andy Luther|\n",
       "|Anthony Michael Hall|\n",
       "|       Ariyon Bakare|\n",
       "|      Beatrice Rosen|\n",
       "|         Bill Smille|\n",
       "|     Brandon Lambdin|\n",
       "|        Bronson Webb|\n",
       "|            Chin Han|\n",
       "|      Christian Bale|\n",
       "|         Chucky Venn|\n",
       "|      Cillian Murphy|\n",
       "|     Colin McFarlane|\n",
       "|        Craig Heaney|\n",
       "|     Crhis Perschler|\n",
       "|         Dale RIvera|\n",
       "|       Daryl Satcher|\n",
       "+--------------------+\n",
       "only showing top 20 rows"
      ]
     },
     "execution_count": 110,
     "metadata": {},
     "output_type": "execute_result"
    }
   ],
   "source": [
    "movies_with_actors = movies.join(actors, movies.mid == actors.mid)\n",
    "movies_title_actors = movies_with_actors.select('title','name')\n",
    "cast_TheDarkKnight = movies_title_actors.filter(movies_title_actors.title == 'The Dark Knight').sort(movies_title_actors.name.asc())\n",
    "only_cast = cast_TheDarkKnight.select('name')\n",
    "only_cast"
   ]
  },
  {
   "cell_type": "markdown",
   "metadata": {},
   "source": [
    "### 3. Print the distinct genres in the database and their corresponding number of movies N where N is greater than 1000, sorted in the ascending order of N"
   ]
  },
  {
   "cell_type": "code",
   "execution_count": 2,
   "metadata": {
    "ExecuteTime": {
     "end_time": "2021-04-16T06:39:43.308951Z",
     "start_time": "2021-04-16T06:39:42.408129Z"
    }
   },
   "outputs": [
    {
     "data": {
      "text/html": [
       "<div>\n",
       "<style scoped>\n",
       "    .dataframe tbody tr th:only-of-type {\n",
       "        vertical-align: middle;\n",
       "    }\n",
       "\n",
       "    .dataframe tbody tr th {\n",
       "        vertical-align: top;\n",
       "    }\n",
       "\n",
       "    .dataframe thead th {\n",
       "        text-align: right;\n",
       "    }\n",
       "</style>\n",
       "<table border=\"1\" class=\"dataframe\">\n",
       "  <thead>\n",
       "    <tr style=\"text-align: right;\">\n",
       "      <th></th>\n",
       "      <th>genre</th>\n",
       "      <th>countMovies</th>\n",
       "    </tr>\n",
       "  </thead>\n",
       "  <tbody>\n",
       "    <tr>\n",
       "      <td>0</td>\n",
       "      <td>Adventure</td>\n",
       "      <td>1003</td>\n",
       "    </tr>\n",
       "    <tr>\n",
       "      <td>1</td>\n",
       "      <td>Crime</td>\n",
       "      <td>1086</td>\n",
       "    </tr>\n",
       "    <tr>\n",
       "      <td>2</td>\n",
       "      <td>Action</td>\n",
       "      <td>1445</td>\n",
       "    </tr>\n",
       "    <tr>\n",
       "      <td>3</td>\n",
       "      <td>Romance</td>\n",
       "      <td>1644</td>\n",
       "    </tr>\n",
       "    <tr>\n",
       "      <td>4</td>\n",
       "      <td>Thriller</td>\n",
       "      <td>1664</td>\n",
       "    </tr>\n",
       "    <tr>\n",
       "      <td>5</td>\n",
       "      <td>Comedy</td>\n",
       "      <td>3566</td>\n",
       "    </tr>\n",
       "    <tr>\n",
       "      <td>6</td>\n",
       "      <td>Drama</td>\n",
       "      <td>5076</td>\n",
       "    </tr>\n",
       "  </tbody>\n",
       "</table>\n",
       "</div>"
      ],
      "text/plain": [
       "       genre  countMovies\n",
       "0  Adventure         1003\n",
       "1      Crime         1086\n",
       "2     Action         1445\n",
       "3    Romance         1644\n",
       "4   Thriller         1664\n",
       "5     Comedy         3566\n",
       "6      Drama         5076"
      ]
     },
     "execution_count": 2,
     "metadata": {},
     "output_type": "execute_result"
    }
   ],
   "source": [
    "reduced_genres = genres.rdd.map(lambda x: (x.genre,1)).reduceByKey(lambda a,b: a+b).filter(lambda x: (int(x[1]) > 1000))\n",
    "reduced_genresdf = reduced_genres.toDF(['genre', 'countMovies']).sort('countMovies')\n",
    "reduced_genresdf"
   ]
  },
  {
   "cell_type": "markdown",
   "metadata": {},
   "source": [
    "### 4. For each year, print the movie title, year, and rating, sorted in the ascending order of year and the descending order of movie rating"
   ]
  },
  {
   "cell_type": "code",
   "execution_count": 5,
   "metadata": {
    "ExecuteTime": {
     "end_time": "2021-04-16T06:45:23.762591Z",
     "start_time": "2021-04-16T06:45:23.632079Z"
    }
   },
   "outputs": [
    {
     "data": {
      "text/html": [
       "<table border='1'>\n",
       "<tr><th>title</th><th>year</th><th>rating</th></tr>\n",
       "<tr><td>The Great Train R...</td><td>1903</td><td>0</td></tr>\n",
       "<tr><td>The Birth of a Na...</td><td>1915</td><td>3.3</td></tr>\n",
       "<tr><td>Intolerance: Love...</td><td>1916</td><td>3.8</td></tr>\n",
       "<tr><td>The Immigrant</td><td>1917</td><td>0</td></tr>\n",
       "<tr><td>Otets Sergiy</td><td>1917</td><td>0</td></tr>\n",
       "<tr><td>A Dog&#x27;s Life</td><td>1918</td><td>0</td></tr>\n",
       "<tr><td>Broken Blossoms o...</td><td>1919</td><td>3.7</td></tr>\n",
       "<tr><td>Die Spinnen, 1. T...</td><td>1919</td><td>0</td></tr>\n",
       "<tr><td>Male and Female</td><td>1919</td><td>0</td></tr>\n",
       "<tr><td>Das Cabinet des D...</td><td>1920</td><td>4.1</td></tr>\n",
       "<tr><td>Way Down East</td><td>1920</td><td>0</td></tr>\n",
       "<tr><td>The Saphead</td><td>1920</td><td>0</td></tr>\n",
       "<tr><td>Der Golem, wie er...</td><td>1920</td><td>0</td></tr>\n",
       "<tr><td>The Goat</td><td>1921</td><td>0</td></tr>\n",
       "<tr><td>Orphans of the Storm</td><td>1921</td><td>0</td></tr>\n",
       "<tr><td>Dr. Mabuse, der S...</td><td>1922</td><td>4.1</td></tr>\n",
       "<tr><td>Dr. Mabuse, der S...</td><td>1922</td><td>4.1</td></tr>\n",
       "<tr><td>Nosferatu, eine S...</td><td>1922</td><td>3.9</td></tr>\n",
       "<tr><td>Häxan</td><td>1922</td><td>3.8</td></tr>\n",
       "<tr><td>Nanook of the North</td><td>1922</td><td>3.7</td></tr>\n",
       "</table>\n",
       "only showing top 20 rows\n"
      ],
      "text/plain": [
       "+--------------------+----+------+\n",
       "|               title|year|rating|\n",
       "+--------------------+----+------+\n",
       "|The Great Train R...|1903|     0|\n",
       "|The Birth of a Na...|1915|   3.3|\n",
       "|Intolerance: Love...|1916|   3.8|\n",
       "|       The Immigrant|1917|     0|\n",
       "|        Otets Sergiy|1917|     0|\n",
       "|        A Dog's Life|1918|     0|\n",
       "|Broken Blossoms o...|1919|   3.7|\n",
       "|Die Spinnen, 1. T...|1919|     0|\n",
       "|     Male and Female|1919|     0|\n",
       "|Das Cabinet des D...|1920|   4.1|\n",
       "|Der Golem, wie er...|1920|     0|\n",
       "|         The Saphead|1920|     0|\n",
       "|       Way Down East|1920|     0|\n",
       "|Orphans of the Storm|1921|     0|\n",
       "|            The Goat|1921|     0|\n",
       "|Dr. Mabuse, der S...|1922|   4.1|\n",
       "|Dr. Mabuse, der S...|1922|   4.1|\n",
       "|Nosferatu, eine S...|1922|   3.9|\n",
       "|               Häxan|1922|   3.8|\n",
       "| Nanook of the North|1922|   3.7|\n",
       "+--------------------+----+------+\n",
       "only showing top 20 rows"
      ]
     },
     "execution_count": 5,
     "metadata": {},
     "output_type": "execute_result"
    }
   ],
   "source": [
    "movies_sorted= movies.sort(movies.year.asc(), movies.rating.desc())\n",
    "movies_sortedFiltered = movies_sorted.select('title', 'year', 'rating')\n",
    "movies_sortedFiltered"
   ]
  },
  {
   "cell_type": "markdown",
   "metadata": {},
   "source": [
    "### 5. Critiques say that some words used in tags to convey emotions are very recurrent. To convey positive and negative emotions, the words ‘good’ and ‘bad’, respectively, are used predominantly in tags. Print all movie titles whose audience opinion is split (i.e., has at least one audience who expresses positive emotion and at least one who expresses negative emotion)."
   ]
  },
  {
   "cell_type": "code",
   "execution_count": 40,
   "metadata": {
    "ExecuteTime": {
     "end_time": "2021-04-16T07:54:33.693328Z",
     "start_time": "2021-04-16T07:54:33.623550Z"
    }
   },
   "outputs": [],
   "source": [
    "movies_with_tags = movies.join(tags, ['mid']).join(tagNames, ['tid'])\n",
    "movies_with_tags_onlyGood = movies_with_tags.rdd.map(lambda x: (x.mid,x.tag)).filter(lambda x: ('good' in x[1])).map(lambda x: (x[0])) #249\n",
    "movies_with_tags_onlyBad = movies_with_tags.rdd.map(lambda x: (x.mid,x.tag)).filter(lambda x: ('bad' in x[1])).map(lambda x: (x[0])) #93\n",
    "movies_with_tags_onlyGoodBad = movies_with_tags_onlyGood.intersection(movies_with_tags_onlyBad) #14"
   ]
  },
  {
   "cell_type": "code",
   "execution_count": 39,
   "metadata": {
    "ExecuteTime": {
     "end_time": "2021-04-16T07:46:26.693745Z",
     "start_time": "2021-04-16T07:46:26.036192Z"
    }
   },
   "outputs": [
    {
     "data": {
      "text/html": [
       "<div>\n",
       "<style scoped>\n",
       "    .dataframe tbody tr th:only-of-type {\n",
       "        vertical-align: middle;\n",
       "    }\n",
       "\n",
       "    .dataframe tbody tr th {\n",
       "        vertical-align: top;\n",
       "    }\n",
       "\n",
       "    .dataframe thead th {\n",
       "        text-align: right;\n",
       "    }\n",
       "</style>\n",
       "<table border=\"1\" class=\"dataframe\">\n",
       "  <thead>\n",
       "    <tr style=\"text-align: right;\">\n",
       "      <th></th>\n",
       "      <th>title</th>\n",
       "    </tr>\n",
       "  </thead>\n",
       "  <tbody>\n",
       "    <tr>\n",
       "      <td>0</td>\n",
       "      <td>Twilight</td>\n",
       "    </tr>\n",
       "    <tr>\n",
       "      <td>1</td>\n",
       "      <td>The Forgotten</td>\n",
       "    </tr>\n",
       "    <tr>\n",
       "      <td>2</td>\n",
       "      <td>Starship Troopers</td>\n",
       "    </tr>\n",
       "    <tr>\n",
       "      <td>3</td>\n",
       "      <td>Bridget Jones's Diary</td>\n",
       "    </tr>\n",
       "    <tr>\n",
       "      <td>4</td>\n",
       "      <td>Howard the Duck</td>\n",
       "    </tr>\n",
       "    <tr>\n",
       "      <td>5</td>\n",
       "      <td>Hercules in New York</td>\n",
       "    </tr>\n",
       "    <tr>\n",
       "      <td>6</td>\n",
       "      <td>C.H.U.D.</td>\n",
       "    </tr>\n",
       "    <tr>\n",
       "      <td>7</td>\n",
       "      <td>The Wicker Man</td>\n",
       "    </tr>\n",
       "    <tr>\n",
       "      <td>8</td>\n",
       "      <td>Ocean's Eleven</td>\n",
       "    </tr>\n",
       "    <tr>\n",
       "      <td>9</td>\n",
       "      <td>Return of the Killer Tomatoes!</td>\n",
       "    </tr>\n",
       "    <tr>\n",
       "      <td>10</td>\n",
       "      <td>From Dusk Till Dawn</td>\n",
       "    </tr>\n",
       "    <tr>\n",
       "      <td>11</td>\n",
       "      <td>Kakushi-toride no san-akunin</td>\n",
       "    </tr>\n",
       "    <tr>\n",
       "      <td>12</td>\n",
       "      <td>Xanadu</td>\n",
       "    </tr>\n",
       "    <tr>\n",
       "      <td>13</td>\n",
       "      <td>Lawrence of Arabia</td>\n",
       "    </tr>\n",
       "  </tbody>\n",
       "</table>\n",
       "</div>"
      ],
      "text/plain": [
       "                             title\n",
       "0                         Twilight\n",
       "1                    The Forgotten\n",
       "2                Starship Troopers\n",
       "3            Bridget Jones's Diary\n",
       "4                  Howard the Duck\n",
       "5             Hercules in New York\n",
       "6                         C.H.U.D.\n",
       "7                   The Wicker Man\n",
       "8                   Ocean's Eleven\n",
       "9   Return of the Killer Tomatoes!\n",
       "10             From Dusk Till Dawn\n",
       "11    Kakushi-toride no san-akunin\n",
       "12                          Xanadu\n",
       "13              Lawrence of Arabia"
      ]
     },
     "execution_count": 39,
     "metadata": {},
     "output_type": "execute_result"
    }
   ],
   "source": [
    "movies_with_tags = movies.join(tags, ['mid']).join(tagNames, ['tid'])\n",
    "movies_with_tags_onlyGood = movies_with_tags.filter(movies_with_tags.tag.contains( 'good')) #249\n",
    "movies_with_tags_onlyBad = movies_with_tags.filter(movies_with_tags.tag.contains( 'bad')) #93\n",
    "movies_with_tags_onlyGoodBad = (movies_with_tags_onlyGood.select('mid','title')).intersect(movies_with_tags_onlyBad.select('mid','title')) #14\n",
    "result = movies_with_tags_onlyGoodBad.select('title')\n",
    "result.toPandas()"
   ]
  },
  {
   "cell_type": "markdown",
   "metadata": {},
   "source": [
    "### 6. One would expect that the movie with the highest number of user ratings is either the highest rated movie or perhaps the lowest rated movie. Let’s find out if this is the case here:\n",
    "\n",
    "#### 6.1 : Print all information (mid, title, year, num ratings, rating) for the movie(s) with the highest number of ratings"
   ]
  },
  {
   "cell_type": "code",
   "execution_count": 25,
   "metadata": {
    "ExecuteTime": {
     "end_time": "2021-04-17T14:54:34.195775Z",
     "start_time": "2021-04-17T14:54:34.008692Z"
    }
   },
   "outputs": [
    {
     "data": {
      "text/html": [
       "<div>\n",
       "<style scoped>\n",
       "    .dataframe tbody tr th:only-of-type {\n",
       "        vertical-align: middle;\n",
       "    }\n",
       "\n",
       "    .dataframe tbody tr th {\n",
       "        vertical-align: top;\n",
       "    }\n",
       "\n",
       "    .dataframe thead th {\n",
       "        text-align: right;\n",
       "    }\n",
       "</style>\n",
       "<table border=\"1\" class=\"dataframe\">\n",
       "  <thead>\n",
       "    <tr style=\"text-align: right;\">\n",
       "      <th></th>\n",
       "      <th>mid</th>\n",
       "      <th>title</th>\n",
       "      <th>year</th>\n",
       "      <th>rating</th>\n",
       "      <th>num_ratings</th>\n",
       "    </tr>\n",
       "  </thead>\n",
       "  <tbody>\n",
       "    <tr>\n",
       "      <td>0</td>\n",
       "      <td>4201</td>\n",
       "      <td>Pirates of the Caribbean: At World's End</td>\n",
       "      <td>2007</td>\n",
       "      <td>3.8</td>\n",
       "      <td>1768593</td>\n",
       "    </tr>\n",
       "    <tr>\n",
       "      <td>1</td>\n",
       "      <td>53125</td>\n",
       "      <td>Pirates of the Caribbean: At World's End</td>\n",
       "      <td>2007</td>\n",
       "      <td>3.8</td>\n",
       "      <td>1768593</td>\n",
       "    </tr>\n",
       "  </tbody>\n",
       "</table>\n",
       "</div>"
      ],
      "text/plain": [
       "     mid                                     title  year rating num_ratings\n",
       "0   4201  Pirates of the Caribbean: At World's End  2007    3.8     1768593\n",
       "1  53125  Pirates of the Caribbean: At World's End  2007    3.8     1768593"
      ]
     },
     "execution_count": 25,
     "metadata": {},
     "output_type": "execute_result"
    }
   ],
   "source": [
    "num_ratings = movies.filter(movies.num_ratings != '\\\\N').withColumn('num_ratings', col('num_ratings').cast('int'))\n",
    "max_num_rating = num_ratings.select(max('num_ratings'))\n",
    "movies_with_max_num_ratings = movies.filter(movies.num_ratings == max_num_rating.collect()[0][0])\n",
    "movies_with_max_num_ratings"
   ]
  },
  {
   "cell_type": "markdown",
   "metadata": {},
   "source": [
    "#### 6.2: Print all information (mid, title, year, num ratings, rating) for the movie(s) with the highest rating (include tuples that tie), sorted by the ascending order of movie id."
   ]
  },
  {
   "cell_type": "code",
   "execution_count": 26,
   "metadata": {
    "ExecuteTime": {
     "end_time": "2021-04-17T14:54:36.580222Z",
     "start_time": "2021-04-17T14:54:36.340802Z"
    }
   },
   "outputs": [
    {
     "data": {
      "text/html": [
       "<table border='1'>\n",
       "<tr><th>mid</th><th>title</th><th>year</th><th>rating</th><th>num_ratings</th></tr>\n",
       "<tr><td>4311</td><td>1732 Høtten</td><td>1998</td><td>5</td><td>5</td></tr>\n",
       "</table>\n"
      ],
      "text/plain": [
       "+----+-----------+----+------+-----------+\n",
       "| mid|      title|year|rating|num_ratings|\n",
       "+----+-----------+----+------+-----------+\n",
       "|4311|1732 Høtten|1998|     5|          5|\n",
       "+----+-----------+----+------+-----------+"
      ]
     },
     "execution_count": 26,
     "metadata": {},
     "output_type": "execute_result"
    }
   ],
   "source": [
    "num_ratings = movies.filter(movies.rating != '\\\\N').withColumn('rating', col('rating').cast('double'))\n",
    "max_rating = num_ratings.select(max('rating'))\n",
    "movies_with_max_ratings = movies.filter(movies.rating == max_rating.collect()[0][0])\n",
    "movies_with_max_ratings"
   ]
  },
  {
   "cell_type": "markdown",
   "metadata": {},
   "source": [
    "#### 6.3: Is (Are) the movie(s) with the most number of user ratings among these highest rated movies? Print the output of the query that will check our conjecture (i.e., your query will print the movie(s) that has (have) the highest number of ratings as well as the highest rating)"
   ]
  },
  {
   "cell_type": "code",
   "execution_count": 27,
   "metadata": {
    "ExecuteTime": {
     "end_time": "2021-04-17T14:54:38.778246Z",
     "start_time": "2021-04-17T14:54:37.993937Z"
    }
   },
   "outputs": [
    {
     "data": {
      "text/html": [
       "<table border='1'>\n",
       "<tr><th>mid</th><th>title</th><th>year</th><th>rating</th><th>num_ratings</th></tr>\n",
       "</table>\n"
      ],
      "text/plain": [
       "+---+-----+----+------+-----------+\n",
       "|mid|title|year|rating|num_ratings|\n",
       "+---+-----+----+------+-----------+\n",
       "+---+-----+----+------+-----------+"
      ]
     },
     "execution_count": 27,
     "metadata": {},
     "output_type": "execute_result"
    }
   ],
   "source": [
    "result = movies_with_max_num_ratings.intersect(movies_with_max_ratings)\n",
    "result"
   ]
  },
  {
   "cell_type": "markdown",
   "metadata": {},
   "source": [
    "#### 6.4: Print all information (mid, title, year, num ratings, rating) for the movie(s) with the lowest rating (include tuples that tie), sorted by the ascending order of movie id."
   ]
  },
  {
   "cell_type": "code",
   "execution_count": 30,
   "metadata": {
    "ExecuteTime": {
     "end_time": "2021-04-17T14:56:01.447236Z",
     "start_time": "2021-04-17T14:56:01.308013Z"
    }
   },
   "outputs": [
    {
     "data": {
      "text/html": [
       "<div>\n",
       "<style scoped>\n",
       "    .dataframe tbody tr th:only-of-type {\n",
       "        vertical-align: middle;\n",
       "    }\n",
       "\n",
       "    .dataframe tbody tr th {\n",
       "        vertical-align: top;\n",
       "    }\n",
       "\n",
       "    .dataframe thead th {\n",
       "        text-align: right;\n",
       "    }\n",
       "</style>\n",
       "<table border=\"1\" class=\"dataframe\">\n",
       "  <thead>\n",
       "    <tr style=\"text-align: right;\">\n",
       "      <th></th>\n",
       "      <th>mid</th>\n",
       "      <th>title</th>\n",
       "      <th>year</th>\n",
       "      <th>rating</th>\n",
       "      <th>num_ratings</th>\n",
       "    </tr>\n",
       "  </thead>\n",
       "  <tbody>\n",
       "    <tr>\n",
       "      <td>0</td>\n",
       "      <td>4230</td>\n",
       "      <td>Too Much Sleep</td>\n",
       "      <td>1997</td>\n",
       "      <td>1.5</td>\n",
       "      <td>3</td>\n",
       "    </tr>\n",
       "  </tbody>\n",
       "</table>\n",
       "</div>"
      ],
      "text/plain": [
       "    mid           title  year rating num_ratings\n",
       "0  4230  Too Much Sleep  1997    1.5           3"
      ]
     },
     "execution_count": 30,
     "metadata": {},
     "output_type": "execute_result"
    }
   ],
   "source": [
    "num_ratings = movies.filter(movies.rating != '\\\\N').withColumn('rating', col('rating').cast('double')).withColumn('num_ratings', col('num_ratings').cast('int'))\n",
    "new_num_ratings = num_ratings.filter(num_ratings.num_ratings > 0)\n",
    "min_rating = new_num_ratings.select(min('rating'))\n",
    "movies_with_min_ratings = movies.filter(movies.rating == min_rating.collect()[0][0])\n",
    "movies_with_min_ratings"
   ]
  },
  {
   "cell_type": "markdown",
   "metadata": {},
   "source": [
    "#### 6.5: Is (Are) the movie(s) with the most number of user ratings among these lowest rated movies? Print the output of the query that will check our conjecture (i.e., your query will print the movie(s) that has (have) the highest number of ratings as well as the lowest rating)"
   ]
  },
  {
   "cell_type": "code",
   "execution_count": 31,
   "metadata": {
    "ExecuteTime": {
     "end_time": "2021-04-17T14:56:03.982342Z",
     "start_time": "2021-04-17T14:56:03.270218Z"
    }
   },
   "outputs": [
    {
     "data": {
      "text/html": [
       "<table border='1'>\n",
       "<tr><th>mid</th><th>title</th><th>year</th><th>rating</th><th>num_ratings</th></tr>\n",
       "</table>\n"
      ],
      "text/plain": [
       "+---+-----+----+------+-----------+\n",
       "|mid|title|year|rating|num_ratings|\n",
       "+---+-----+----+------+-----------+\n",
       "+---+-----+----+------+-----------+"
      ]
     },
     "execution_count": 31,
     "metadata": {},
     "output_type": "execute_result"
    }
   ],
   "source": [
    "result = movies_with_max_num_ratings.intersect(movies_with_min_ratings)"
   ]
  },
  {
   "cell_type": "markdown",
   "metadata": {},
   "source": [
    "#### 6.6: In conclusion, is our hypothesis or conjecture true for the MovieLens database?"
   ]
  },
  {
   "cell_type": "markdown",
   "metadata": {},
   "source": [
    "No, the results of query 6.3 and 6.5 show that both the intersection of max_num_ratings and max_rating/min_rating are empty! "
   ]
  },
  {
   "cell_type": "markdown",
   "metadata": {},
   "source": [
    "### 7. Print the movie title, year, and rating of the lowest and highest movies for each year in 2005 – 2011, inclusive, in the ascending order of year. In case of a tie, print the records in the ascending order of title."
   ]
  },
  {
   "cell_type": "code",
   "execution_count": 17,
   "metadata": {
    "ExecuteTime": {
     "end_time": "2021-04-17T14:08:32.184837Z",
     "start_time": "2021-04-17T14:08:29.658144Z"
    },
    "scrolled": false
   },
   "outputs": [
    {
     "data": {
      "text/html": [
       "<div>\n",
       "<style scoped>\n",
       "    .dataframe tbody tr th:only-of-type {\n",
       "        vertical-align: middle;\n",
       "    }\n",
       "\n",
       "    .dataframe tbody tr th {\n",
       "        vertical-align: top;\n",
       "    }\n",
       "\n",
       "    .dataframe thead th {\n",
       "        text-align: right;\n",
       "    }\n",
       "</style>\n",
       "<table border=\"1\" class=\"dataframe\">\n",
       "  <thead>\n",
       "    <tr style=\"text-align: right;\">\n",
       "      <th></th>\n",
       "      <th>title</th>\n",
       "      <th>year</th>\n",
       "      <th>rating</th>\n",
       "    </tr>\n",
       "  </thead>\n",
       "  <tbody>\n",
       "    <tr>\n",
       "      <td>0</td>\n",
       "      <td>Alone in the Dark</td>\n",
       "      <td>2005</td>\n",
       "      <td>2.1</td>\n",
       "    </tr>\n",
       "    <tr>\n",
       "      <td>1</td>\n",
       "      <td>Alone in the Dark</td>\n",
       "      <td>2005</td>\n",
       "      <td>2.1</td>\n",
       "    </tr>\n",
       "    <tr>\n",
       "      <td>2</td>\n",
       "      <td>Alone in the Dark</td>\n",
       "      <td>2005</td>\n",
       "      <td>2.1</td>\n",
       "    </tr>\n",
       "    <tr>\n",
       "      <td>3</td>\n",
       "      <td>Son of the Mask</td>\n",
       "      <td>2005</td>\n",
       "      <td>2.1</td>\n",
       "    </tr>\n",
       "    <tr>\n",
       "      <td>4</td>\n",
       "      <td>No Direction Home: Bob Dylan</td>\n",
       "      <td>2005</td>\n",
       "      <td>4.3</td>\n",
       "    </tr>\n",
       "    <tr>\n",
       "      <td>5</td>\n",
       "      <td>Basic Instinct 2</td>\n",
       "      <td>2006</td>\n",
       "      <td>2.5</td>\n",
       "    </tr>\n",
       "    <tr>\n",
       "      <td>6</td>\n",
       "      <td>Basic Instinct 2</td>\n",
       "      <td>2006</td>\n",
       "      <td>2.5</td>\n",
       "    </tr>\n",
       "    <tr>\n",
       "      <td>7</td>\n",
       "      <td>Bug</td>\n",
       "      <td>2006</td>\n",
       "      <td>2.5</td>\n",
       "    </tr>\n",
       "    <tr>\n",
       "      <td>8</td>\n",
       "      <td>Bug</td>\n",
       "      <td>2006</td>\n",
       "      <td>2.5</td>\n",
       "    </tr>\n",
       "    <tr>\n",
       "      <td>9</td>\n",
       "      <td>Doogal</td>\n",
       "      <td>2006</td>\n",
       "      <td>2.5</td>\n",
       "    </tr>\n",
       "    <tr>\n",
       "      <td>10</td>\n",
       "      <td>Das Leben der Anderen</td>\n",
       "      <td>2006</td>\n",
       "      <td>4.4</td>\n",
       "    </tr>\n",
       "    <tr>\n",
       "      <td>11</td>\n",
       "      <td>D-War</td>\n",
       "      <td>2007</td>\n",
       "      <td>2.3</td>\n",
       "    </tr>\n",
       "    <tr>\n",
       "      <td>12</td>\n",
       "      <td>Byôsoku 5 senchimêtoru</td>\n",
       "      <td>2007</td>\n",
       "      <td>4.3</td>\n",
       "    </tr>\n",
       "    <tr>\n",
       "      <td>13</td>\n",
       "      <td>No End in Sight</td>\n",
       "      <td>2007</td>\n",
       "      <td>4.3</td>\n",
       "    </tr>\n",
       "    <tr>\n",
       "      <td>14</td>\n",
       "      <td>Pete Seeger: The Power of Song</td>\n",
       "      <td>2007</td>\n",
       "      <td>4.3</td>\n",
       "    </tr>\n",
       "    <tr>\n",
       "      <td>15</td>\n",
       "      <td>War Dance</td>\n",
       "      <td>2007</td>\n",
       "      <td>4.3</td>\n",
       "    </tr>\n",
       "    <tr>\n",
       "      <td>16</td>\n",
       "      <td>Asylum</td>\n",
       "      <td>2008</td>\n",
       "      <td>2.2</td>\n",
       "    </tr>\n",
       "    <tr>\n",
       "      <td>17</td>\n",
       "      <td>Asylum</td>\n",
       "      <td>2008</td>\n",
       "      <td>2.2</td>\n",
       "    </tr>\n",
       "    <tr>\n",
       "      <td>18</td>\n",
       "      <td>The Dark Knight</td>\n",
       "      <td>2008</td>\n",
       "      <td>4.5</td>\n",
       "    </tr>\n",
       "    <tr>\n",
       "      <td>19</td>\n",
       "      <td>Miss March</td>\n",
       "      <td>2009</td>\n",
       "      <td>2.7</td>\n",
       "    </tr>\n",
       "    <tr>\n",
       "      <td>20</td>\n",
       "      <td>The Last House on the Left</td>\n",
       "      <td>2009</td>\n",
       "      <td>2.7</td>\n",
       "    </tr>\n",
       "    <tr>\n",
       "      <td>21</td>\n",
       "      <td>Star Trek</td>\n",
       "      <td>2009</td>\n",
       "      <td>4.1</td>\n",
       "    </tr>\n",
       "  </tbody>\n",
       "</table>\n",
       "</div>"
      ],
      "text/plain": [
       "                             title  year  rating\n",
       "0                Alone in the Dark  2005     2.1\n",
       "1                Alone in the Dark  2005     2.1\n",
       "2                Alone in the Dark  2005     2.1\n",
       "3                  Son of the Mask  2005     2.1\n",
       "4     No Direction Home: Bob Dylan  2005     4.3\n",
       "5                 Basic Instinct 2  2006     2.5\n",
       "6                 Basic Instinct 2  2006     2.5\n",
       "7                              Bug  2006     2.5\n",
       "8                              Bug  2006     2.5\n",
       "9                           Doogal  2006     2.5\n",
       "10           Das Leben der Anderen  2006     4.4\n",
       "11                           D-War  2007     2.3\n",
       "12          Byôsoku 5 senchimêtoru  2007     4.3\n",
       "13                 No End in Sight  2007     4.3\n",
       "14  Pete Seeger: The Power of Song  2007     4.3\n",
       "15                       War Dance  2007     4.3\n",
       "16                          Asylum  2008     2.2\n",
       "17                          Asylum  2008     2.2\n",
       "18                 The Dark Knight  2008     4.5\n",
       "19                      Miss March  2009     2.7\n",
       "20      The Last House on the Left  2009     2.7\n",
       "21                       Star Trek  2009     4.1"
      ]
     },
     "execution_count": 17,
     "metadata": {},
     "output_type": "execute_result"
    }
   ],
   "source": [
    "movies_2005_2011 = movies.filter((movies.year >= 2005) & (movies.year <= 2011))\n",
    "movies_list = []\n",
    "\n",
    "for year in range(2005,2012):\n",
    "    ratings = movies_2005_2011.filter((movies_2005_2011.year == year) & (movies_2005_2011.num_ratings != '\\\\N') & (movies_2005_2011.num_ratings > 0)).withColumn('rating', col('rating').cast('double'))\n",
    "    min_rating = ratings.select(min('rating'))\n",
    "    max_rating = ratings.select(max('rating'))\n",
    "    result_min = ratings.filter(ratings.rating == min_rating.collect()[0][0]).sort(ratings.title)\n",
    "    result_max = ratings.filter(ratings.rating == max_rating.collect()[0][0]).sort(ratings.title)\n",
    "    final_result = result_min.union(result_max).select('title','year', 'rating')\n",
    "    movies_list.extend(final_result.collect())\n",
    "\n",
    "rdd = sc.parallelize(movies_list)\n",
    "result = rdd.toDF()\n",
    "result.toPandas()"
   ]
  },
  {
   "cell_type": "markdown",
   "metadata": {},
   "source": [
    "### 8. Let us find out who are the ‘no flop’ actors. A ‘no flop’ actor can be defined as one who has played only in movies which have a rating greater than or equal to 4. We split this problem into the following steps:"
   ]
  },
  {
   "cell_type": "markdown",
   "metadata": {},
   "source": [
    "##### 8.1 Create a view called high ratings which contains the distinct names of all actors who have played in movies with a rating greater than or equal to 4. Similarly, create a view called low ratings which contains the distinct names of all actors who have played in movies with a rating less than 4. Print the number of rows in each view."
   ]
  },
  {
   "cell_type": "code",
   "execution_count": 20,
   "metadata": {
    "ExecuteTime": {
     "end_time": "2021-04-17T14:15:10.264580Z",
     "start_time": "2021-04-17T14:15:09.473972Z"
    }
   },
   "outputs": [
    {
     "data": {
      "text/plain": [
       "87032"
      ]
     },
     "execution_count": 20,
     "metadata": {},
     "output_type": "execute_result"
    }
   ],
   "source": [
    "movies_with_actors = movies.join(actors,['mid']).withColumn('rating', col('rating').cast('double'))\n",
    "high_ratings = movies_with_actors.filter(movies_with_actors.rating >= 4.0).select('name').distinct()\n",
    "low_ratings = movies_with_actors.filter(movies_with_actors.rating < 4.0).select('name').distinct()\n",
    "high_ratings.count() #13710\n",
    "low_ratings.count() #87032"
   ]
  },
  {
   "cell_type": "markdown",
   "metadata": {},
   "source": [
    "##### 8.2 Use the above views to print the number of ‘no flop’ actors in the database."
   ]
  },
  {
   "cell_type": "code",
   "execution_count": 21,
   "metadata": {
    "ExecuteTime": {
     "end_time": "2021-04-17T14:15:14.569065Z",
     "start_time": "2021-04-17T14:15:11.969849Z"
    }
   },
   "outputs": [
    {
     "data": {
      "text/plain": [
       "7015"
      ]
     },
     "execution_count": 21,
     "metadata": {},
     "output_type": "execute_result"
    }
   ],
   "source": [
    "result = high_ratings.subtract(low_ratings)\n",
    "result.count() #7015"
   ]
  },
  {
   "cell_type": "markdown",
   "metadata": {},
   "source": [
    "###### 8.3 For each ‘no flop’ actor, print the name of the actor and the number of movies N that he/she played in, sorted in descending order of N. Finally, print the top10 only."
   ]
  },
  {
   "cell_type": "code",
   "execution_count": 24,
   "metadata": {
    "ExecuteTime": {
     "end_time": "2021-04-17T14:15:58.001120Z",
     "start_time": "2021-04-17T14:15:53.392861Z"
    }
   },
   "outputs": [
    {
     "data": {
      "text/html": [
       "<table border='1'>\n",
       "<tr><th>name</th><th>countMovies</th></tr>\n",
       "<tr><td>Nikolai Grinko</td><td>8</td></tr>\n",
       "<tr><td>John Cazale</td><td>7</td></tr>\n",
       "<tr><td>Paul Frankeur</td><td>7</td></tr>\n",
       "<tr><td>Tsutomu Yamazaki</td><td>6</td></tr>\n",
       "<tr><td>Kuniko Miyake</td><td>6</td></tr>\n",
       "<tr><td>Gunnel Lindblom</td><td>6</td></tr>\n",
       "<tr><td>Allan Garcia</td><td>6</td></tr>\n",
       "<tr><td>Anatoli Solonitsin</td><td>5</td></tr>\n",
       "<tr><td>Timothy T. Mitchum</td><td>5</td></tr>\n",
       "<tr><td>Megan Gallagher</td><td>5</td></tr>\n",
       "<tr><td>Joshua Jaymz Doss</td><td>4</td></tr>\n",
       "<tr><td>Aaron Staton</td><td>4</td></tr>\n",
       "<tr><td>Amma Agyapon</td><td>4</td></tr>\n",
       "<tr><td>Tyler McGuckin</td><td>4</td></tr>\n",
       "<tr><td>Yvette Bodrick</td><td>4</td></tr>\n",
       "<tr><td>Jasmine Pauline W...</td><td>4</td></tr>\n",
       "<tr><td>Dietrice A. Bolden</td><td>4</td></tr>\n",
       "<tr><td>Olaf Storm</td><td>4</td></tr>\n",
       "<tr><td>Michael Drayer</td><td>4</td></tr>\n",
       "<tr><td>Dirk Zeelenberg</td><td>4</td></tr>\n",
       "</table>\n",
       "only showing top 20 rows\n"
      ],
      "text/plain": [
       "+-------------------+-----------+\n",
       "|               name|countMovies|\n",
       "+-------------------+-----------+\n",
       "|     Nikolai Grinko|          8|\n",
       "|      Paul Frankeur|          7|\n",
       "|        John Cazale|          7|\n",
       "|      Kuniko Miyake|          6|\n",
       "|    Gunnel Lindblom|          6|\n",
       "|       Allan Garcia|          6|\n",
       "|   Tsutomu Yamazaki|          6|\n",
       "| Timothy T. Mitchum|          5|\n",
       "| Anatoli Solonitsin|          5|\n",
       "|    Megan Gallagher|          5|\n",
       "|         Olaf Storm|          4|\n",
       "|     Tyler McGuckin|          4|\n",
       "|    Michael Nyqvist|          4|\n",
       "|       Travis Veada|          4|\n",
       "|Joyce Walker Jospeh|          4|\n",
       "|     Yvette Bodrick|          4|\n",
       "|       Aaron Staton|          4|\n",
       "|  Jamia Simone Nash|          4|\n",
       "|       Bilal Bishop|          4|\n",
       "|      Jindai Joseph|          4|\n",
       "+-------------------+-----------+\n",
       "only showing top 20 rows"
      ]
     },
     "execution_count": 24,
     "metadata": {},
     "output_type": "execute_result"
    }
   ],
   "source": [
    "noFlopactors_with_mid = actors.join(result,['name'])\n",
    "\n",
    "reduced_actors = noFlopactors_with_mid.rdd.map(lambda x: (x.name,1)).reduceByKey(lambda a,b: a+b)\n",
    "reduced_actors_df = reduced_actors.toDF(['name', 'countMovies'])\n",
    "final_result = reduced_actors_df.withColumn('countMovies', col('countMovies').cast('int')).sort(reduced_actors_df.countMovies.desc())\n",
    "final_result"
   ]
  },
  {
   "cell_type": "markdown",
   "metadata": {},
   "source": [
    "### 9. Let us find out who is the actor with the highest ‘longevity.’ Print the name of the actor/actress who has been playing in movies for the longest period of time (i.e., the time interval between their first movie and their last movie is the greatest)."
   ]
  },
  {
   "cell_type": "code",
   "execution_count": 32,
   "metadata": {
    "ExecuteTime": {
     "end_time": "2021-04-17T15:21:59.603379Z",
     "start_time": "2021-04-17T15:21:48.379084Z"
    }
   },
   "outputs": [
    {
     "data": {
      "text/html": [
       "<table border='1'>\n",
       "<tr><th>name</th><th>difference</th></tr>\n",
       "<tr><td>Morgan Jones</td><td>102</td></tr>\n",
       "</table>\n"
      ],
      "text/plain": [
       "+------------+----------+\n",
       "|        name|difference|\n",
       "+------------+----------+\n",
       "|Morgan Jones|       102|\n",
       "+------------+----------+"
      ]
     },
     "execution_count": 32,
     "metadata": {},
     "output_type": "execute_result"
    }
   ],
   "source": [
    "movies_with_actors = movies.join(actors,['mid']).withColumn('year', col('year').cast('int'))\n",
    "partial_result = movies_with_actors.select('name','year').distinct()\n",
    "result_max = partial_result.groupBy('name').max('year').withColumnRenamed('max(year)', 'recentYear')\n",
    "result_min = partial_result.groupBy('name').min('year').withColumnRenamed('min(year)', 'firstYear')\n",
    "result_join = result_min.join(result_max,['name'])\n",
    "result = result_join.select('name',result_join.recentYear-result_join.firstYear).withColumnRenamed('(recentYear - firstYear)', 'difference')\n",
    "max_difference = result.select(max('difference'))\n",
    "final_result = result.filter(result.difference == max_difference.collect()[0][0])\n",
    "final_result"
   ]
  },
  {
   "cell_type": "markdown",
   "metadata": {},
   "source": [
    "### 10. Let us find the close friends of Annette Nicole. Print the names of all actors who have starred in (at least) all movies in which Annette Nicole has starred in. Note that it is OK if these actors have starred in more movies than Annette Nicole has played in."
   ]
  },
  {
   "cell_type": "markdown",
   "metadata": {},
   "source": [
    "###### 10.1 First, create a view called co_actors, which returns the distinct names of actors who played in at least one movie with Annette Nicole. Print the number of rows in this view."
   ]
  },
  {
   "cell_type": "code",
   "execution_count": 2,
   "metadata": {
    "ExecuteTime": {
     "end_time": "2021-04-18T12:34:50.641140Z",
     "start_time": "2021-04-18T12:34:48.279214Z"
    }
   },
   "outputs": [
    {
     "data": {
      "text/plain": [
       "179"
      ]
     },
     "execution_count": 2,
     "metadata": {},
     "output_type": "execute_result"
    }
   ],
   "source": [
    "movies_with_actors = movies.join(actors,['mid'])\n",
    "movies_with_Annette = movies_with_actors.filter(movies_with_actors.name == 'Annette Nicole')\n",
    "movies_with_Annette_mid = movies_with_Annette.select('mid')\n",
    "movies_with_cast_and_Annette = actors.join(movies_with_Annette_mid,['mid'])\n",
    "co_actors = movies_with_cast_and_Annette.select('name').distinct()\n",
    "co_actors.count() #179"
   ]
  },
  {
   "cell_type": "markdown",
   "metadata": {},
   "source": [
    "###### 10.2 Second, create a view called all_combinations which returns all possible combinations of co_actors and the movie ids in which Annette Nicole played. Print the number of rows in this view. Note how that this view contains fake (co_actor, mid) combinations!"
   ]
  },
  {
   "cell_type": "code",
   "execution_count": 3,
   "metadata": {
    "ExecuteTime": {
     "end_time": "2021-04-18T12:34:53.773711Z",
     "start_time": "2021-04-18T12:34:51.563154Z"
    }
   },
   "outputs": [
    {
     "data": {
      "text/plain": [
       "537"
      ]
     },
     "execution_count": 3,
     "metadata": {},
     "output_type": "execute_result"
    }
   ],
   "source": [
    "partial_all_combinations = movies_with_Annette.withColumnRenamed('name', 'nameAnnette').crossJoin(co_actors)\n",
    "all_combinations = partial_all_combinations.select('mid','name')\n",
    "all_combinations.count() #537"
   ]
  },
  {
   "cell_type": "markdown",
   "metadata": {},
   "source": [
    "###### 10.3 Third, create a view called non_existent from the view all_combinations by removing all legitimate (co_actor,mid) pairs (i.e., pairs that exist in the actors table). Print the number of rows in this view"
   ]
  },
  {
   "cell_type": "code",
   "execution_count": 4,
   "metadata": {
    "ExecuteTime": {
     "end_time": "2021-04-18T12:34:58.530233Z",
     "start_time": "2021-04-18T12:34:55.990125Z"
    }
   },
   "outputs": [
    {
     "data": {
      "text/plain": [
       "239"
      ]
     },
     "execution_count": 4,
     "metadata": {},
     "output_type": "execute_result"
    }
   ],
   "source": [
    "actors_real = actors.select('mid', 'name')\n",
    "non_existent = all_combinations.subtract(actors_real)\n",
    "non_existent.count() #239"
   ]
  },
  {
   "cell_type": "markdown",
   "metadata": {},
   "source": [
    "###### 10.4 Finally, from the view co_actors, eliminate the distinct actors that appear in the view non_extistent. Print the names of all co_actors except Annette Nicole."
   ]
  },
  {
   "cell_type": "code",
   "execution_count": 5,
   "metadata": {
    "ExecuteTime": {
     "end_time": "2021-04-18T12:35:06.743929Z",
     "start_time": "2021-04-18T12:35:00.287828Z"
    }
   },
   "outputs": [
    {
     "data": {
      "text/html": [
       "<table border='1'>\n",
       "<tr><th>name</th></tr>\n",
       "<tr><td>Kristen Connolly</td></tr>\n",
       "<tr><td>Christian Perry</td></tr>\n",
       "</table>\n"
      ],
      "text/plain": [
       "+----------------+\n",
       "|            name|\n",
       "+----------------+\n",
       "|Kristen Connolly|\n",
       "| Christian Perry|\n",
       "+----------------+"
      ]
     },
     "execution_count": 5,
     "metadata": {},
     "output_type": "execute_result"
    }
   ],
   "source": [
    "final = co_actors.subtract(non_existent.select('name'))\n",
    "final.filter(final.name != 'Annette Nicole')"
   ]
  },
  {
   "cell_type": "markdown",
   "metadata": {},
   "source": [
    "### 11. Let us find out who is the most social actor. A social actor is the one with the highest number of distinct co-actors. We will break this into two sub-tasks:"
   ]
  },
  {
   "cell_type": "markdown",
   "metadata": {},
   "source": [
    "###### 11.1 For the actor Tom Cruise, print his name and the number of distinct co-actors."
   ]
  },
  {
   "cell_type": "code",
   "execution_count": 2,
   "metadata": {},
   "outputs": [
    {
     "data": {
      "text/html": [
       "<table border='1'>\n",
       "<tr><th>name</th><th>countCoActors</th></tr>\n",
       "<tr><td>Tom Cruise</td><td>1238</td></tr>\n",
       "</table>\n"
      ],
      "text/plain": [
       "+----------+-------------+\n",
       "|      name|countCoActors|\n",
       "+----------+-------------+\n",
       "|Tom Cruise|         1238|\n",
       "+----------+-------------+"
      ]
     },
     "execution_count": 2,
     "metadata": {},
     "output_type": "execute_result"
    }
   ],
   "source": [
    "movies_with_Tom = actors.filter(actors.name == 'Tom Cruise').select('mid','name') \n",
    "movies_with_coActors = movies_with_Tom.join(actors.withColumnRenamed('name', 'nameCoActors'),['mid'])\n",
    "final_coActors_Tom = movies_with_coActors.filter(movies_with_coActors.nameCoActors != 'Tom Cruise').select('name', 'nameCoActors').distinct().groupBy('name').count().withColumnRenamed('count', 'countCoActors')\n",
    "final_coActors_Tom"
   ]
  },
  {
   "cell_type": "markdown",
   "metadata": {},
   "source": [
    "###### 11.2 For each actor, compute the number of distinct co-actors. For the highest such number, print the name of the actor and the number of distinct co-actors. In case of a tie, print the records sorted in alphabetical order by name."
   ]
  },
  {
   "cell_type": "code",
   "execution_count": 8,
   "metadata": {},
   "outputs": [
    {
     "data": {
      "text/html": [
       "<table border='1'>\n",
       "<tr><th>_1</th><th>_2</th></tr>\n",
       "<tr><td>Oliver Platt</td><td>831</td></tr>\n",
       "</table>\n"
      ],
      "text/plain": [
       "+------------+---+\n",
       "|          _1| _2|\n",
       "+------------+---+\n",
       "|Oliver Platt|831|\n",
       "+------------+---+"
      ]
     },
     "execution_count": 8,
     "metadata": {},
     "output_type": "execute_result"
    }
   ],
   "source": [
    "################################## INEFFICIENT SOLUTION ########################################################\n",
    "most_social_actor = []\n",
    "maxCoActors = 0\n",
    "actors_list = actors.select('name').distinct().collect()\n",
    "\n",
    "for actor in actors_list:\n",
    "    movies_with_specific_actor = actors.filter(actors.name == actor[0]).select('mid','name') \n",
    "    movies_with_coActors = movies_with_specific_actor.join(actors.withColumnRenamed('name', 'nameCoActors'),['mid'])\n",
    "    final_coActors_specific_actor = movies_with_coActors.filter(movies_with_coActors.nameCoActors != actor[0]).select('name', 'nameCoActors').distinct().groupBy('name').count().withColumnRenamed('count', 'countCoActors')\n",
    "    most_social_actor.append((actor[0], final_coActors_specific_actor.collect()[0][1]))\n",
    "    \n",
    "rdd = sc.parallelize(most_social_actor)\n",
    "result = rdd.toDF()\n",
    "max_coActors = result.select(max('_2'))\n",
    "\n",
    "final_result = result.filter(result._2 == max_coActors.collect()[0][0]) \n",
    "final_result"
   ]
  },
  {
   "cell_type": "code",
   "execution_count": 95,
   "metadata": {},
   "outputs": [
    {
     "data": {
      "text/html": [
       "<table border='1'>\n",
       "<tr><th>name</th><th>countCoActors</th></tr>\n",
       "<tr><td>Samuel L. Jackson</td><td>1824</td></tr>\n",
       "</table>\n"
      ],
      "text/plain": [
       "+-----------------+-------------+\n",
       "|             name|countCoActors|\n",
       "+-----------------+-------------+\n",
       "|Samuel L. Jackson|         1824|\n",
       "+-----------------+-------------+"
      ]
     },
     "execution_count": 95,
     "metadata": {},
     "output_type": "execute_result"
    }
   ],
   "source": [
    "reduced_actors = actors.rdd.map(lambda x: (x.mid,1)).reduceByKey(lambda a,b: a+b)\n",
    "result_countActors = reduced_actors.toDF().withColumnRenamed('_1','mid').withColumnRenamed('_2','countActors')\n",
    "movies_with_countActors = result_countActors.join(actors,['mid']).select('mid','countActors','name')\n",
    "\n",
    "movies_with_countActors_reduced = movies_with_countActors.rdd.map(lambda x: (x.name,x.countActors-1)).reduceByKey(lambda a,b: a+b)\n",
    "result_countActors = movies_with_countActors_reduced.toDF().withColumnRenamed('_1','name').withColumnRenamed('_2','countCoActors')\n",
    "\n",
    "# search for duplicates, we tried use mapReduce but it was to slow. Surprisingly groupBy and cout() was faster than mapReduce.\n",
    "couples_coActors = actors.join(actors.withColumnRenamed('name','coActor'),['mid']).groupBy('name','coActor').count().withColumnRenamed('count', 'countCoActors')\n",
    "result_partial_couples = couples_coActors.filter(couples_coActors.name != couples_coActors.coActor).select('name', 'coActor',couples_coActors.countCoActors-1).withColumnRenamed('(countCoActors - 1)', 'duplicates').withColumn('duplicates', col('duplicates').cast('int'))\n",
    "result_couples = result_partial_couples.groupBy('name').sum('duplicates').withColumnRenamed('sum(duplicates)', 'duplicates')\n",
    "\n",
    "r= result_countActors.join(result_couples,['name'])\n",
    "final_r = r.select('name', r.countCoActors - r.duplicates).withColumnRenamed('(countCoActors - duplicates)','countCoActors')\n",
    "max_coActors = final_r.select(max('countCoActors'))\n",
    "#final_r.filter(final_r.name == 'Tom Cruise') --> 1238 it's correct!\n",
    "final_result = final_r.filter(final_r.countCoActors == max_coActors.collect()[0][0]) \n",
    "final_result"
   ]
  },
  {
   "cell_type": "markdown",
   "metadata": {},
   "source": [
    "### 12. We will now write some queries for a Content-Based Movie Recommendation System such as NetFlix. However, in this project we shall deploy a simple algorithm that may or may not produce optimal recommendations. Content-based recommendations focus on the properties of items, in our case movies. The similarity of two movies is determined by measuring the similarity of their properties. For a movie item, we shall consider the following five properties: actors, tags, genres, year, and rating. "
   ]
  },
  {
   "cell_type": "markdown",
   "metadata": {},
   "source": [
    "##### Given two movies X and Y, the similarity of Y to X, sim(X,Y), can be computed as: (fraction of common actors + fraction of common tags + fraction of common genres + age gap + rating gap) /5 where fraction is the number of common elements between X and Y divided by the number of elements of X, age gap is the normalized difference between the production years of X and Y, and rating gap is the normalized difference between the ratings of X and Y. Intuitively, the smaller the gaps are, the better (since movies of the same decade and rating are more likely to be similar). Moreover, note that we divide by five because each property is given an equal weight of 1. "
   ]
  },
  {
   "cell_type": "markdown",
   "metadata": {},
   "source": [
    "##### Given a user who is known to like the movie ‘Mr. & Mrs. Smith’, write a query that prints the movie title, rating, and similarity percentage (i.e., similarity * 100) for the top 10 movies that are most similar to the ‘Mr. & Mrs. Smith’ movie, ordered by the similarity percentage."
   ]
  },
  {
   "cell_type": "code",
   "execution_count": 4,
   "metadata": {
    "ExecuteTime": {
     "end_time": "2021-04-19T15:46:56.676032Z",
     "start_time": "2021-04-19T15:45:16.460289Z"
    }
   },
   "outputs": [
    {
     "data": {
      "text/html": [
       "<table border='1'>\n",
       "<tr><th>title</th><th>rating</th><th>similarity</th></tr>\n",
       "<tr><td>Waiting to Exhale</td><td>3.3</td><td>61.0</td></tr>\n",
       "<tr><td>Mighty Aphrodite</td><td>3.3</td><td>60.0</td></tr>\n",
       "<tr><td>Gazon maudit</td><td>3.4</td><td>60.0</td></tr>\n",
       "<tr><td>The American Pres...</td><td>3.2</td><td>59.0</td></tr>\n",
       "<tr><td>Grumpy Old Men</td><td>3.2</td><td>59.0</td></tr>\n",
       "<tr><td>Beautiful Girls</td><td>3.6</td><td>59.0</td></tr>\n",
       "<tr><td>Bottle Rocket</td><td>3.7</td><td>59.0</td></tr>\n",
       "<tr><td>Sabrina</td><td>3.8</td><td>57.99999999999999</td></tr>\n",
       "<tr><td>Sense and Sensibi...</td><td>3.8</td><td>57.99999999999999</td></tr>\n",
       "<tr><td>Vampire in Brooklyn</td><td>2.4</td><td>57.99999999999999</td></tr>\n",
       "</table>\n"
      ],
      "text/plain": [
       "+--------------------+------+-----------------+\n",
       "|               title|rating|       similarity|\n",
       "+--------------------+------+-----------------+\n",
       "|   Waiting to Exhale|   3.3|             61.0|\n",
       "|    Mighty Aphrodite|   3.3|             60.0|\n",
       "|        Gazon maudit|   3.4|             60.0|\n",
       "|The American Pres...|   3.2|             59.0|\n",
       "|      Grumpy Old Men|   3.2|             59.0|\n",
       "|     Beautiful Girls|   3.6|             59.0|\n",
       "|       Bottle Rocket|   3.7|             59.0|\n",
       "|             Sabrina|   3.8|57.99999999999999|\n",
       "|Sense and Sensibi...|   3.8|57.99999999999999|\n",
       "| Vampire in Brooklyn|   2.4|57.99999999999999|\n",
       "+--------------------+------+-----------------+"
      ]
     },
     "execution_count": 4,
     "metadata": {},
     "output_type": "execute_result"
    }
   ],
   "source": [
    "################################## INEFFICIENT SOLUTION ########################################################\n",
    "def get_mid(movie):\n",
    "    return movies.filter(movies.title == movie).select('mid').collect()[0][0]\n",
    "\n",
    "maxYear = int(movies.select(max(movies.year)).collect()[0][0])\n",
    "maxRating = float(movies.filter(movies.rating != '\\\\N').select(max(movies.rating)).collect()[0][0])\n",
    "\n",
    "def similarity(mid_movie1, mid_movie2):\n",
    "    \n",
    "    get_num_actor = len(actors.filter(actors.mid == mid_movie1).select('name').collect())\n",
    "    get_num_tags = len(tags.filter(tags.mid == mid_movie1).select('tid').distinct().collect())\n",
    "    get_num_genres = len(genres.filter(genres.mid == mid_movie1).select('genre').distinct().collect())\n",
    "    \n",
    "    actorsMovie1 = actors.filter(actors.mid == mid_movie1).select('name')\n",
    "    actorsMovie2 = actors.filter(actors.mid == mid_movie2).select('name')\n",
    "    intersect_actor =  len(actorsMovie1.intersect(actorsMovie2).collect())/get_num_actor\n",
    "    \n",
    "    tagsMovie1 = tags.filter(tags.mid == mid_movie1).select('tid')\n",
    "    tagsMovie2 = tags.filter(tags.mid == mid_movie2).select('tid')\n",
    "    intersect_tag = len(tagsMovie1.intersect(tagsMovie2).collect())/get_num_tags\n",
    "    \n",
    "    genreMovie1 = genres.filter(genres.mid == mid_movie1).select('genre')\n",
    "    genreMovie2 = genres.filter(genres.mid == mid_movie2).select('genre')\n",
    "    intersect_genre =  len(genreMovie1.intersect(genreMovie2).collect())/get_num_genres\n",
    "    \n",
    "    year_movie1 = int(movies.filter(movies.mid == mid_movie1).select('year').collect()[0][0])\n",
    "    year_movie2 = int(movies.filter(movies.mid == mid_movie2).select('year').collect()[0][0])\n",
    "    difference =  abs(year_movie1 - year_movie2)\n",
    "    age_gap =  1 - (difference/maxYear)\n",
    "    \n",
    "    \n",
    "    rating_movie1 = float(movies.filter(movies.mid == mid_movie1).select('rating').collect()[0][0])\n",
    "    rating_movie2 = float(movies.filter(movies.mid == mid_movie2).select('rating').collect()[0][0])\n",
    "    difference_gap = abs(rating_movie1 - rating_movie2) \n",
    "    rating_gap = 1 - (difference_gap/maxRating)\n",
    "    similarity = round((intersect_actor+intersect_tag+intersect_genre + age_gap + rating_gap)/5,2)*100\n",
    "\n",
    "    return similarity\n",
    "\n",
    "mid_movieMrSmith = get_mid('Mr. & Mrs. Smith')\n",
    "movies_without_MrSmith = movies.filter(movies.mid != mid_movieMrSmith).filter(movies.rating != '\\\\N').limit(100).select('mid')\n",
    "similarity_for_movies = []\n",
    "\n",
    "for mid in movies_without_MrSmith.collect():\n",
    "    similarity_for_movies.append([mid_movieMrSmith,mid[0], similarity(mid_movieMrSmith,mid[0])])\n",
    "\n",
    "rdd = sc.parallelize(similarity_for_movies)\n",
    "result = rdd.toDF().withColumnRenamed('_1','mid_movieMrSmith').withColumnRenamed('_2','mid').withColumnRenamed('_3','similarity')\n",
    "r = result.join(movies,['mid']).select('title', 'rating','similarity')\n",
    "final_result= r.sort(r.similarity.desc()).limit(10)\n",
    "final_result\n"
   ]
  },
  {
   "cell_type": "code",
   "execution_count": 5,
   "metadata": {
    "ExecuteTime": {
     "end_time": "2021-04-19T15:47:13.392117Z",
     "start_time": "2021-04-19T15:47:09.988727Z"
    }
   },
   "outputs": [
    {
     "data": {
      "text/html": [
       "<div>\n",
       "<style scoped>\n",
       "    .dataframe tbody tr th:only-of-type {\n",
       "        vertical-align: middle;\n",
       "    }\n",
       "\n",
       "    .dataframe tbody tr th {\n",
       "        vertical-align: top;\n",
       "    }\n",
       "\n",
       "    .dataframe thead th {\n",
       "        text-align: right;\n",
       "    }\n",
       "</style>\n",
       "<table border=\"1\" class=\"dataframe\">\n",
       "  <thead>\n",
       "    <tr style=\"text-align: right;\">\n",
       "      <th></th>\n",
       "      <th>title</th>\n",
       "      <th>rating</th>\n",
       "      <th>similarity</th>\n",
       "    </tr>\n",
       "  </thead>\n",
       "  <tbody>\n",
       "    <tr>\n",
       "      <td>0</td>\n",
       "      <td>Mr. &amp; Mrs. Smith</td>\n",
       "      <td>3.4</td>\n",
       "      <td>80.00</td>\n",
       "    </tr>\n",
       "    <tr>\n",
       "      <td>1</td>\n",
       "      <td>Hitch</td>\n",
       "      <td>3.4</td>\n",
       "      <td>66.67</td>\n",
       "    </tr>\n",
       "    <tr>\n",
       "      <td>2</td>\n",
       "      <td>Waitress</td>\n",
       "      <td>3.4</td>\n",
       "      <td>66.65</td>\n",
       "    </tr>\n",
       "    <tr>\n",
       "      <td>3</td>\n",
       "      <td>Definitely, Maybe</td>\n",
       "      <td>3.5</td>\n",
       "      <td>66.24</td>\n",
       "    </tr>\n",
       "    <tr>\n",
       "      <td>4</td>\n",
       "      <td>Bend It Like Beckham</td>\n",
       "      <td>3.2</td>\n",
       "      <td>65.84</td>\n",
       "    </tr>\n",
       "    <tr>\n",
       "      <td>5</td>\n",
       "      <td>Walking and Talking</td>\n",
       "      <td>3.6</td>\n",
       "      <td>65.78</td>\n",
       "    </tr>\n",
       "    <tr>\n",
       "      <td>6</td>\n",
       "      <td>French Kiss</td>\n",
       "      <td>3.2</td>\n",
       "      <td>65.77</td>\n",
       "    </tr>\n",
       "    <tr>\n",
       "      <td>7</td>\n",
       "      <td>The Naked Gun: From the Files of Police Squad!</td>\n",
       "      <td>3.2</td>\n",
       "      <td>65.70</td>\n",
       "    </tr>\n",
       "    <tr>\n",
       "      <td>8</td>\n",
       "      <td>The Women</td>\n",
       "      <td>3</td>\n",
       "      <td>65.04</td>\n",
       "    </tr>\n",
       "    <tr>\n",
       "      <td>9</td>\n",
       "      <td>L'ultimo bacio</td>\n",
       "      <td>3.8</td>\n",
       "      <td>65.03</td>\n",
       "    </tr>\n",
       "  </tbody>\n",
       "</table>\n",
       "</div>"
      ],
      "text/plain": [
       "                                            title rating  similarity\n",
       "0                                Mr. & Mrs. Smith    3.4       80.00\n",
       "1                                           Hitch    3.4       66.67\n",
       "2                                        Waitress    3.4       66.65\n",
       "3                               Definitely, Maybe    3.5       66.24\n",
       "4                            Bend It Like Beckham    3.2       65.84\n",
       "5                             Walking and Talking    3.6       65.78\n",
       "6                                     French Kiss    3.2       65.77\n",
       "7  The Naked Gun: From the Files of Police Squad!    3.2       65.70\n",
       "8                                       The Women      3       65.04\n",
       "9                                  L'ultimo bacio    3.8       65.03"
      ]
     },
     "execution_count": 5,
     "metadata": {},
     "output_type": "execute_result"
    }
   ],
   "source": [
    "from pyspark.sql.functions import abs, round\n",
    "\n",
    "def get_mid(movie):\n",
    "    return movies.filter(movies.title == movie).select('mid').collect()[0][0]\n",
    "\n",
    "maxYear = int(movies.select(max(movies.year)).collect()[0][0])\n",
    "maxRating = float(movies.filter(movies.rating != '\\\\N').select(max(movies.rating)).collect()[0][0])\n",
    "mid_Mr = get_mid('Mr. & Mrs. Smith')\n",
    "num_actors_Mr = actors.filter(actors.mid == mid_Mr).count()\n",
    "num_genres_Mr = genres.filter(genres.mid == mid_Mr).count()\n",
    "num_tags_Mr = tags.filter(tags.mid == mid_Mr).count()\n",
    "year_Mr = int(movies.filter(movies.mid == mid_Mr).select('year').collect()[0][0])\n",
    "rating_Mr = float(movies.filter(movies.mid == mid_Mr).select('rating').collect()[0][0])\n",
    "\n",
    "#we create table common_actors\n",
    "actors_Mr = actors.filter(actors.mid == mid_Mr).select('mid','name').withColumnRenamed('mid','midMr')\n",
    "# here we don't have count = 0 for no relation between actors\n",
    "partial_common_actors = actors.filter(actors.mid != mid_Mr).join(actors_Mr,['name']).groupBy('mid').count()\n",
    "# we add count = 0 for the remaining movies\n",
    "partial_common_actors_withCount= movies.select('mid').withColumnRenamed('mid','midNew')\n",
    "c = partial_common_actors_withCount.join(partial_common_actors, partial_common_actors.mid == partial_common_actors_withCount.midNew, how='left').select('midNew','count')\n",
    "common_actors = c.fillna({'count':'0'}).select('midNew', col('count')/num_actors_Mr).withColumnRenamed('midNew','mid').withColumnRenamed('(count / 12)','common_actors_value')\n",
    "\n",
    "#we create table common_genres\n",
    "genres_Mr = genres.filter(genres.mid == mid_Mr).select('mid','genre').withColumnRenamed('mid','midMr')\n",
    "partial_common_genres = genres.filter(genres.mid != mid_Mr).join(genres_Mr,['genre']).groupBy('mid').count()\n",
    "partial_common_genres_withCount= movies.select('mid').withColumnRenamed('mid','midNew')\n",
    "g = partial_common_genres_withCount.join(partial_common_genres, partial_common_genres.mid == partial_common_genres_withCount.midNew, how='left').select('midNew','count')\n",
    "common_genres = g.fillna({'count':'0'}).select('midNew', col('count')/num_genres_Mr).withColumnRenamed('midNew','mid').withColumnRenamed('(count / 2)','common_genres_value')\n",
    "\n",
    "#we create table common_tags\n",
    "tags_Mr = tags.filter(tags.mid == mid_Mr).select('mid','tid').withColumnRenamed('mid','midMr')\n",
    "partial_common_tags = tags.filter(tags.mid != mid_Mr).join(tags_Mr,['tid']).groupBy('mid').count()\n",
    "partial_common_tags_withCount= movies.select('mid').withColumnRenamed('mid','midNew')\n",
    "t = partial_common_tags_withCount.join(partial_common_tags, partial_common_tags.mid == partial_common_tags_withCount.midNew, how='left').select('midNew','count')\n",
    "common_tags = t.fillna({'count':'0'}).select('midNew', col('count')/num_tags_Mr).withColumnRenamed('midNew','mid').withColumnRenamed('(count / 3)','common_tags_value')\n",
    "\n",
    "#we create table year_gap\n",
    "y = movies.select('mid','year').withColumn('year', col('year').cast('int')).withColumn('yearMr',lit(year_Mr))\n",
    "year_gap = y.select('mid',1 - ((abs(col('year')-col('yearMr')))/maxYear)).withColumnRenamed('(1 - (abs((year - yearMr)) / 2011))', 'year_gap')\n",
    "\n",
    "#we create table rating_gap, we change null value with 0.0\n",
    "r = movies.select('mid','rating').withColumn('rating', col('rating').cast('double')).fillna({'rating':'0'}).withColumn('ratingMr',lit(rating_Mr))\n",
    "rating_gap = r.select('mid',1 - ((abs(col('rating')-col('ratingMr')))/maxRating)).withColumnRenamed('(1 - (abs((rating - ratingMr)) / 5.0))', 'rating_gap')\n",
    "\n",
    "final_table = common_actors.join(common_genres,['mid']).join(common_tags,['mid']).join(year_gap,['mid']).join(rating_gap,['mid'])\n",
    "f = final_table.withColumn('similarity',lit(((final_table.common_actors_value+final_table.common_genres_value+final_table.common_tags_value+final_table.year_gap+final_table.rating_gap)/5)*100))\n",
    "\n",
    "partial_result = f.join(movies,['mid']).select('title', 'rating','similarity').withColumn('similarity', round('similarity',2))\n",
    "result = partial_result.sort(partial_result.similarity.desc()).limit(10)\n",
    "result.toPandas()"
   ]
  },
  {
   "cell_type": "code",
   "execution_count": null,
   "metadata": {},
   "outputs": [],
   "source": [
    "################################## MAP SOLUTION WITH ERROR ########################################################\n",
    "\n",
    "\n",
    "minYear = int(movies.select(min(movies.year)).collect()[0][0])\n",
    "maxYear = int(movies.select(max(movies.year)).collect()[0][0])\n",
    "maxRating = float(movies.filter(movies.rating != '\\\\N').select(max(movies.rating)).collect()[0][0])\n",
    "\n",
    "def get_mid(movie):\n",
    "    return movies.filter(movies.title == movie).select('mid').collect()[0][0]\n",
    "\n",
    "\n",
    "def similarity(mid_movie1, mid_movie2):\n",
    "    \n",
    "    get_num_actor = len(actors.filter(actors.mid == mid_movie1).select('name').collect())\n",
    "    get_num_tags = len(tags.filter(tags.mid == mid_movie1).select('tid').distinct().collect())\n",
    "    get_num_genres = len(genres.filter(genres.mid == mid_movie1).select('genre').distinct().collect())\n",
    "    \n",
    "    actorsMovie1 = actors.filter(actors.mid == mid_movie1).select('name')\n",
    "    actorsMovie2 = actors.filter(actors.mid == mid_movie2).select('name')\n",
    "    intersect_actor =  len(actorsMovie1.intersect(actorsMovie2).collect())/get_num_actor\n",
    "    \n",
    "    tagsMovie1 = tags.filter(tags.mid == mid_movie1).select('tid')\n",
    "    tagsMovie2 = tags.filter(tags.mid == mid_movie2).select('tid')\n",
    "    intersect_tag = len(tagsMovie1.intersect(tagsMovie2).collect())/get_num_tags\n",
    "    \n",
    "    genreMovie1 = genres.filter(genres.mid == mid_movie1).select('genre')\n",
    "    genreMovie2 = genres.filter(genres.mid == mid_movie2).select('genre')\n",
    "    intersect_genre =  len(genreMovie1.intersect(genreMovie2).collect())/get_num_genres\n",
    "    \n",
    "    year_movie1 = int(movies.filter(movies.mid == mid_movie1).select('year').collect()[0][0])\n",
    "    year_movie2 = int(movies.filter(movies.mid == mid_movie2).select('year').collect()[0][0])\n",
    "    difference = abs(year_movie1 - year_movie2)\n",
    "    age_gap =  1 - (difference/maxYear)\n",
    "    \n",
    "    \n",
    "    rating_movie1 = float(movies.filter(movies.mid == mid_movie1).select('rating').collect()[0][0])\n",
    "    rating_movie2 = float(movies.filter(movies.mid == mid_movie2).select('rating').collect()[0][0])\n",
    "    difference_gap = abs(rating_movie1 - rating_movie2) \n",
    "    rating_gap = 1 - (difference_gap/maxRating)\n",
    "    similarity = round((intersect_actor+intersect_tag+intersect_genre + age_gap + rating_gap)/5,2)*100\n",
    "\n",
    "    return similarity#result.select('similarity')\n",
    "\n",
    "\n",
    "mid_movieMrSmith = get_mid('Mr. & Mrs. Smith')\n",
    "movies_without_MrSmith = movies.filter(movies.mid != mid_movieMrSmith).filter(movies.rating != '\\\\N').select('mid')\n",
    "similarity_for_movies = []\n",
    "\n",
    "map_film = movies_without_MrSmith.rdd.map(lambda x: ((mid_movieMrSmith,x.mid), similarity(mid_movieMrSmith,x.mid)))\n",
    "map_film.take(5)"
   ]
  },
  {
   "cell_type": "code",
   "execution_count": null,
   "metadata": {},
   "outputs": [],
   "source": []
  }
 ],
 "metadata": {
  "kernelspec": {
   "display_name": "Python 3",
   "language": "python",
   "name": "python3"
  },
  "language_info": {
   "codemirror_mode": {
    "name": "ipython",
    "version": 3
   },
   "file_extension": ".py",
   "mimetype": "text/x-python",
   "name": "python",
   "nbconvert_exporter": "python",
   "pygments_lexer": "ipython3",
   "version": "3.7.4"
  }
 },
 "nbformat": 4,
 "nbformat_minor": 2
}
