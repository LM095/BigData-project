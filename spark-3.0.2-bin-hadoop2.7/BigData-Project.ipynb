{
 "cells": [
  {
   "cell_type": "code",
   "execution_count": 2,
   "metadata": {},
   "outputs": [
    {
     "data": {
      "text/plain": [
       "DataFrame[userId: string, movieId: string, tag: string, timestamp: string]"
      ]
     },
     "execution_count": 2,
     "metadata": {},
     "output_type": "execute_result"
    }
   ],
   "source": [
    "import csv\n",
    "# load the data\n",
    "movies_file = sc.textFile(\"dataset/movies.csv\")\n",
    "ratings_file = sc.textFile(\"dataset/ratings.csv\")\n",
    "tags_file = sc.textFile(\"dataset/tags.csv\")\n",
    "'''\n",
    "# extract header\n",
    "header_movies = movies_file.first() \n",
    "header_ratings = ratings_file.first()\n",
    "header_tags = tags_file.first()\n",
    "\n",
    "'''\n",
    "\n",
    "# remove the header, separate the elements for each row\n",
    "data_movies = movies_file.map(lambda row: next(csv.reader(row.splitlines(), skipinitialspace=True)))\n",
    "data_ratings = ratings_file.map(lambda row: next(csv.reader(row.splitlines(), skipinitialspace=True)))\n",
    "data_tags = tags_file.map(lambda row: next(csv.reader(row.splitlines(), skipinitialspace=True)))\n",
    "\n",
    "#data = rawData.filter(lambda row: row != header).map(lambda row : row.split(\",\")) \n",
    "#data2 = rawData2.filter(lambda row: row != header2).map(lambda row : row.split(\",\")) \n",
    "# put the data in cache\n",
    "\n",
    "table_movies = spark.createDataFrame(data_movies, ['movieId', 'title','genre'])\n",
    "table_ratings = spark.createDataFrame(data_ratings, ['userId','movieId','rating', 'timestamp' ])\n",
    "table_tags = spark.createDataFrame(data_tags, ['userId','movieId','tag','timestamp'])\n",
    "\n",
    "\n",
    "movies = table_movies.alias('movies')\n",
    "ratings = table_ratings.alias('ratings')\n",
    "tags = table_tags.alias('tags')\n",
    "\n",
    "movies.persist()\n",
    "ratings.persist()\n",
    "tags.persist()\n",
    "\n",
    "#inner_join = movies.join(ratings, movies.id == ratings.id)\n",
    "#inner_join.show(50)\n"
   ]
  },
  {
   "cell_type": "markdown",
   "metadata": {},
   "source": [
    "Print all movie titles starring ‘Daniel Craig’, sorted in an ascending alphabetical\n",
    "order."
   ]
  },
  {
   "cell_type": "code",
   "execution_count": 6,
   "metadata": {},
   "outputs": [
    {
     "name": "stdout",
     "output_type": "stream",
     "text": [
      "[Row(movieId='movieId', title='title', genre='genres'), Row(movieId='1', title='Toy Story (1995)', genre='Adventure|Animation|Children|Comedy|Fantasy'), Row(movieId='2', title='Jumanji (1995)', genre='Adventure|Children|Fantasy'), Row(movieId='3', title='Grumpier Old Men (1995)', genre='Comedy|Romance'), Row(movieId='4', title='Waiting to Exhale (1995)', genre='Comedy|Drama|Romance'), Row(movieId='5', title='Father of the Bride Part II (1995)', genre='Comedy'), Row(movieId='6', title='Heat (1995)', genre='Action|Crime|Thriller'), Row(movieId='7', title='Sabrina (1995)', genre='Comedy|Romance'), Row(movieId='8', title='Tom and Huck (1995)', genre='Adventure|Children'), Row(movieId='9', title='Sudden Death (1995)', genre='Action'), Row(movieId='10', title='GoldenEye (1995)', genre='Action|Adventure|Thriller'), Row(movieId='11', title='American President, The (1995)', genre='Comedy|Drama|Romance'), Row(movieId='12', title='Dracula: Dead and Loving It (1995)', genre='Comedy|Horror'), Row(movieId='13', title='Balto (1995)', genre='Adventure|Animation|Children'), Row(movieId='14', title='Nixon (1995)', genre='Drama'), Row(movieId='15', title='Cutthroat Island (1995)', genre='Action|Adventure|Romance'), Row(movieId='16', title='Casino (1995)', genre='Crime|Drama'), Row(movieId='17', title='Sense and Sensibility (1995)', genre='Drama|Romance'), Row(movieId='18', title='Four Rooms (1995)', genre='Comedy'), Row(movieId='19', title='Ace Ventura: When Nature Calls (1995)', genre='Comedy')]\n"
     ]
    }
   ],
   "source": [
    "inner_join = movies.join(ratings, movies.movieId == ratings.movieId)\n",
    "#inner_join.show(50)\n"
   ]
  },
  {
   "cell_type": "code",
   "execution_count": null,
   "metadata": {},
   "outputs": [],
   "source": []
  }
 ],
 "metadata": {
  "kernelspec": {
   "display_name": "Python 3",
   "language": "python",
   "name": "python3"
  },
  "language_info": {
   "codemirror_mode": {
    "name": "ipython",
    "version": 3
   },
   "file_extension": ".py",
   "mimetype": "text/x-python",
   "name": "python",
   "nbconvert_exporter": "python",
   "pygments_lexer": "ipython3",
   "version": "3.7.4"
  }
 },
 "nbformat": 4,
 "nbformat_minor": 2
}
