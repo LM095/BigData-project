{
 "cells": [
  {
   "cell_type": "code",
   "execution_count": 58,
   "metadata": {},
   "outputs": [
    {
     "data": {
      "text/html": [
       "<table border='1'>\n",
       "<tr><th>mid</th><th>title</th><th>year</th><th>rating</th><th>num_ratings</th></tr>\n",
       "<tr><td>1</td><td>Toy story</td><td>1995</td><td>3.7</td><td>102338</td></tr>\n",
       "<tr><td>2</td><td>Jumanji</td><td>1995</td><td>3.2</td><td>44587</td></tr>\n",
       "<tr><td>3</td><td>Grumpy Old Men</td><td>1993</td><td>3.2</td><td>10489</td></tr>\n",
       "<tr><td>4</td><td>Waiting to Exhale</td><td>1995</td><td>3.3</td><td>5666</td></tr>\n",
       "<tr><td>5</td><td>Father of the Bri...</td><td>1995</td><td>3</td><td>13761</td></tr>\n",
       "<tr><td>6</td><td>Heat</td><td>1995</td><td>3.9</td><td>42785</td></tr>\n",
       "<tr><td>7</td><td>Sabrina</td><td>1954</td><td>3.8</td><td>12812</td></tr>\n",
       "<tr><td>8</td><td>Tom and Huck</td><td>1995</td><td>2.7</td><td>2649</td></tr>\n",
       "<tr><td>9</td><td>Sudden Death</td><td>1995</td><td>2.6</td><td>3626</td></tr>\n",
       "<tr><td>10</td><td>GoldenEye</td><td>1995</td><td>3.4</td><td>28260</td></tr>\n",
       "<tr><td>11</td><td>The American Pres...</td><td>1995</td><td>3.2</td><td>8320</td></tr>\n",
       "<tr><td>12</td><td>Dracula: Dead and...</td><td>1995</td><td>2.8</td><td>10078</td></tr>\n",
       "<tr><td>13</td><td>Balto</td><td>1995</td><td>3.2</td><td>9195</td></tr>\n",
       "<tr><td>14</td><td>Nixon</td><td>1995</td><td>3.5</td><td>3256</td></tr>\n",
       "<tr><td>15</td><td>Cutthroat Island</td><td>1995</td><td>2.6</td><td>3350</td></tr>\n",
       "<tr><td>16</td><td>Casino</td><td>1995</td><td>3.9</td><td>66463</td></tr>\n",
       "<tr><td>17</td><td>Sense and Sensibi...</td><td>1995</td><td>3.8</td><td>32782</td></tr>\n",
       "<tr><td>18</td><td>Four Rooms</td><td>1995</td><td>3.5</td><td>14266</td></tr>\n",
       "<tr><td>19</td><td>Ace Ventura: When...</td><td>1995</td><td>3.2</td><td>87306</td></tr>\n",
       "<tr><td>20</td><td>Money Train</td><td>1995</td><td>2.7</td><td>5263</td></tr>\n",
       "</table>\n",
       "only showing top 20 rows\n"
      ],
      "text/plain": [
       "+---+--------------------+----+------+-----------+\n",
       "|mid|               title|year|rating|num_ratings|\n",
       "+---+--------------------+----+------+-----------+\n",
       "|  1|           Toy story|1995|   3.7|     102338|\n",
       "|  2|             Jumanji|1995|   3.2|      44587|\n",
       "|  3|      Grumpy Old Men|1993|   3.2|      10489|\n",
       "|  4|   Waiting to Exhale|1995|   3.3|       5666|\n",
       "|  5|Father of the Bri...|1995|     3|      13761|\n",
       "|  6|                Heat|1995|   3.9|      42785|\n",
       "|  7|             Sabrina|1954|   3.8|      12812|\n",
       "|  8|        Tom and Huck|1995|   2.7|       2649|\n",
       "|  9|        Sudden Death|1995|   2.6|       3626|\n",
       "| 10|           GoldenEye|1995|   3.4|      28260|\n",
       "| 11|The American Pres...|1995|   3.2|       8320|\n",
       "| 12|Dracula: Dead and...|1995|   2.8|      10078|\n",
       "| 13|               Balto|1995|   3.2|       9195|\n",
       "| 14|               Nixon|1995|   3.5|       3256|\n",
       "| 15|    Cutthroat Island|1995|   2.6|       3350|\n",
       "| 16|              Casino|1995|   3.9|      66463|\n",
       "| 17|Sense and Sensibi...|1995|   3.8|      32782|\n",
       "| 18|          Four Rooms|1995|   3.5|      14266|\n",
       "| 19|Ace Ventura: When...|1995|   3.2|      87306|\n",
       "| 20|         Money Train|1995|   2.7|       5263|\n",
       "+---+--------------------+----+------+-----------+\n",
       "only showing top 20 rows"
      ]
     },
     "execution_count": 58,
     "metadata": {},
     "output_type": "execute_result"
    }
   ],
   "source": [
    "import csv\n",
    "spark = SparkSession.builder.getOrCreate()\n",
    "spark.conf.set('spark.sql.repl.eagerEval.enabled', True)\n",
    "\n",
    "# load the data\n",
    "movies_file = sc.textFile(\"dataset/movies.csv\")\n",
    "genres_file = sc.textFile(\"dataset/genres.csv\")\n",
    "actors_file = sc.textFile(\"dataset/actors.csv\")\n",
    "tagNames_file = sc.textFile(\"dataset/tag_names.csv\")\n",
    "tags_file = sc.textFile(\"dataset/tags.csv\")\n",
    "\n",
    "# we separate the fields for each table in csv format\n",
    "data_movies = movies_file.map(lambda row: next(csv.reader(row.splitlines(), skipinitialspace=True)))\n",
    "data_genres = genres_file.map(lambda row: next(csv.reader(row.splitlines(), skipinitialspace=True)))\n",
    "data_actors = actors_file.map(lambda row: next(csv.reader(row.splitlines(), skipinitialspace=True)))\n",
    "data_tagNames = tagNames_file.map(lambda row: next(csv.reader(row.splitlines(), skipinitialspace=True)))\n",
    "data_tags = tags_file.map(lambda row: next(csv.reader(row.splitlines(), skipinitialspace=True)))\n",
    "\n",
    "# we create the dataframe for each data generated\n",
    "table_movies = spark.createDataFrame(data_movies, ['mid', 'title','year','rating','num_ratings'])\n",
    "table_genres = spark.createDataFrame(data_genres, ['mid', 'genre'])\n",
    "table_actors = spark.createDataFrame(data_actors, ['mid', 'name', 'cast_position'])\n",
    "table_tagNames = spark.createDataFrame(data_tagNames, ['tid', 'tag'])\n",
    "table_tags = spark.createDataFrame(data_tags, ['mid', 'tid'])\n",
    "\n",
    "# create an alias for each table\n",
    "movies = table_movies.alias('movies')\n",
    "genres = table_genres.alias('genres')\n",
    "actors = table_actors.alias('actors')\n",
    "tagNames = table_tagNames.alias('tagNames')\n",
    "tags = table_tags.alias('tags')\n",
    "\n",
    "# we mantain the tables in cache\n",
    "\n",
    "genres.persist()\n",
    "actors.persist()\n",
    "tagNames.persist()\n",
    "tags.persist()\n",
    "movies.persist()"
   ]
  },
  {
   "cell_type": "markdown",
   "metadata": {},
   "source": [
    "### 1. Print all movie titles starring ‘Daniel Craig’, sorted in an ascending alphabetical order."
   ]
  },
  {
   "cell_type": "code",
   "execution_count": 63,
   "metadata": {},
   "outputs": [
    {
     "data": {
      "text/html": [
       "<table border='1'>\n",
       "<tr><th>title</th><th>name</th></tr>\n",
       "<tr><td>A Kid in King Art...</td><td>Daniel Craig</td></tr>\n",
       "<tr><td>Archangel</td><td>Daniel Craig</td></tr>\n",
       "<tr><td>Casino Royale</td><td>Daniel Craig</td></tr>\n",
       "<tr><td>Casino Royale</td><td>Daniel Craig</td></tr>\n",
       "<tr><td>Elizabeth</td><td>Daniel Craig</td></tr>\n",
       "<tr><td>Enduring Love</td><td>Daniel Craig</td></tr>\n",
       "<tr><td>Infamous</td><td>Daniel Craig</td></tr>\n",
       "<tr><td>Lara Croft: Tomb ...</td><td>Daniel Craig</td></tr>\n",
       "<tr><td>Layer Cake</td><td>Daniel Craig</td></tr>\n",
       "<tr><td>Munich</td><td>Daniel Craig</td></tr>\n",
       "<tr><td>Quantum of Solace</td><td>Daniel Craig</td></tr>\n",
       "<tr><td>Renaissance</td><td>Daniel Craig</td></tr>\n",
       "<tr><td>Road to Perdition</td><td>Daniel Craig</td></tr>\n",
       "<tr><td>Sorstalanság</td><td>Daniel Craig</td></tr>\n",
       "<tr><td>Sylvia</td><td>Daniel Craig</td></tr>\n",
       "<tr><td>The Golden Compass</td><td>Daniel Craig</td></tr>\n",
       "<tr><td>The Invasion</td><td>Daniel Craig</td></tr>\n",
       "<tr><td>The Jacket</td><td>Daniel Craig</td></tr>\n",
       "<tr><td>The Mother</td><td>Daniel Craig</td></tr>\n",
       "<tr><td>The Mother</td><td>Daniel Craig</td></tr>\n",
       "</table>\n",
       "only showing top 20 rows\n"
      ],
      "text/plain": [
       "+--------------------+------------+\n",
       "|               title|        name|\n",
       "+--------------------+------------+\n",
       "|A Kid in King Art...|Daniel Craig|\n",
       "|           Archangel|Daniel Craig|\n",
       "|       Casino Royale|Daniel Craig|\n",
       "|       Casino Royale|Daniel Craig|\n",
       "|           Elizabeth|Daniel Craig|\n",
       "|       Enduring Love|Daniel Craig|\n",
       "|            Infamous|Daniel Craig|\n",
       "|Lara Croft: Tomb ...|Daniel Craig|\n",
       "|          Layer Cake|Daniel Craig|\n",
       "|              Munich|Daniel Craig|\n",
       "|   Quantum of Solace|Daniel Craig|\n",
       "|         Renaissance|Daniel Craig|\n",
       "|   Road to Perdition|Daniel Craig|\n",
       "|        Sorstalanság|Daniel Craig|\n",
       "|              Sylvia|Daniel Craig|\n",
       "|  The Golden Compass|Daniel Craig|\n",
       "|        The Invasion|Daniel Craig|\n",
       "|          The Jacket|Daniel Craig|\n",
       "|          The Mother|Daniel Craig|\n",
       "|          The Mother|Daniel Craig|\n",
       "+--------------------+------------+\n",
       "only showing top 20 rows"
      ]
     },
     "execution_count": 63,
     "metadata": {},
     "output_type": "execute_result"
    }
   ],
   "source": [
    "movies_with_actors = movies.join(actors, movies.mid == actors.mid)\n",
    "\n",
    "movies_title_actors = movies_with_actors.select('title','name')\n",
    "movies_with_Craig = movies_title_actors.filter(movies_title_actors.name == 'Daniel Craig').sort(movies_title_actors.title.asc())\n",
    "\n",
    "# display the result: we use count to display all the rows\n",
    "#movies_with_Craig.show(movies_with_Craig.count(), truncate=False)\n",
    "movies_with_Craig"
   ]
  },
  {
   "cell_type": "markdown",
   "metadata": {},
   "source": [
    "### 2. Print names of the cast of the movie ‘The Dark Knight’ in an ascending alphabetical order."
   ]
  },
  {
   "cell_type": "code",
   "execution_count": 64,
   "metadata": {},
   "outputs": [
    {
     "data": {
      "text/html": [
       "<table border='1'>\n",
       "<tr><th>name</th></tr>\n",
       "<tr><td>Aaron Eckhart</td></tr>\n",
       "<tr><td>Adam Kalesperis</td></tr>\n",
       "<tr><td>Aidan Feore</td></tr>\n",
       "<tr><td>Andrew Bicknell</td></tr>\n",
       "<tr><td>Andy Luther</td></tr>\n",
       "<tr><td>Anthony Michael Hall</td></tr>\n",
       "<tr><td>Ariyon Bakare</td></tr>\n",
       "<tr><td>Beatrice Rosen</td></tr>\n",
       "<tr><td>Bill Smille</td></tr>\n",
       "<tr><td>Brandon Lambdin</td></tr>\n",
       "<tr><td>Bronson Webb</td></tr>\n",
       "<tr><td>Chin Han</td></tr>\n",
       "<tr><td>Christian Bale</td></tr>\n",
       "<tr><td>Chucky Venn</td></tr>\n",
       "<tr><td>Cillian Murphy</td></tr>\n",
       "<tr><td>Colin McFarlane</td></tr>\n",
       "<tr><td>Craig Heaney</td></tr>\n",
       "<tr><td>Crhis Perschler</td></tr>\n",
       "<tr><td>Dale RIvera</td></tr>\n",
       "<tr><td>Daryl Satcher</td></tr>\n",
       "</table>\n",
       "only showing top 20 rows\n"
      ],
      "text/plain": [
       "+--------------------+\n",
       "|                name|\n",
       "+--------------------+\n",
       "|       Aaron Eckhart|\n",
       "|     Adam Kalesperis|\n",
       "|         Aidan Feore|\n",
       "|     Andrew Bicknell|\n",
       "|         Andy Luther|\n",
       "|Anthony Michael Hall|\n",
       "|       Ariyon Bakare|\n",
       "|      Beatrice Rosen|\n",
       "|         Bill Smille|\n",
       "|     Brandon Lambdin|\n",
       "|        Bronson Webb|\n",
       "|            Chin Han|\n",
       "|      Christian Bale|\n",
       "|         Chucky Venn|\n",
       "|      Cillian Murphy|\n",
       "|     Colin McFarlane|\n",
       "|        Craig Heaney|\n",
       "|     Crhis Perschler|\n",
       "|         Dale RIvera|\n",
       "|       Daryl Satcher|\n",
       "+--------------------+\n",
       "only showing top 20 rows"
      ]
     },
     "execution_count": 64,
     "metadata": {},
     "output_type": "execute_result"
    }
   ],
   "source": [
    "movies_with_actors = movies.join(actors, movies.mid == actors.mid)\n",
    "movies_title_actors = movies_with_actors.select('title','name')\n",
    "\n",
    "cast_TheDarkKnight = movies_title_actors.filter(movies_title_actors.title == 'The Dark Knight').sort(movies_title_actors.name.asc())\n",
    "only_cast = cast_TheDarkKnight.select('name')\n",
    "#only_cast.show(only_cast.count(), truncate=False)\n",
    "only_cast"
   ]
  },
  {
   "cell_type": "markdown",
   "metadata": {},
   "source": [
    "### 3. Print the distinct genres in the database and their corresponding number of movies N where N is greater than 1000, sorted in the ascending order of N"
   ]
  },
  {
   "cell_type": "code",
   "execution_count": 72,
   "metadata": {},
   "outputs": [
    {
     "data": {
      "text/plain": [
       "[('51709', 8),\n",
       " ('2987', 7),\n",
       " ('46948', 7),\n",
       " ('56152', 7),\n",
       " ('2701', 6),\n",
       " ('3535', 6),\n",
       " ('4306', 6),\n",
       " ('7235', 6),\n",
       " ('7835', 6),\n",
       " ('8481', 6),\n",
       " ('26326', 6),\n",
       " ('26504', 6),\n",
       " ('27773', 6),\n",
       " ('31367', 6),\n",
       " ('31804', 6),\n",
       " ('32031', 6),\n",
       " ('36397', 6),\n",
       " ('51939', 6),\n",
       " ('54278', 6),\n",
       " ('62999', 6)]"
      ]
     },
     "execution_count": 72,
     "metadata": {},
     "output_type": "execute_result"
    }
   ],
   "source": [
    "reduced_genres = genres.rdd.map(lambda x: (x.mid,1)).reduceByKey(lambda a,b: a+b).filter(lambda x: (int(x[0]) > 1000))\n",
    "reduced_genres.takeOrdered(20, key = lambda x: -x[1])"
   ]
  },
  {
   "cell_type": "code",
   "execution_count": null,
   "metadata": {},
   "outputs": [],
   "source": []
  }
 ],
 "metadata": {
  "kernelspec": {
   "display_name": "Python 3",
   "language": "python",
   "name": "python3"
  },
  "language_info": {
   "codemirror_mode": {
    "name": "ipython",
    "version": 3
   },
   "file_extension": ".py",
   "mimetype": "text/x-python",
   "name": "python",
   "nbconvert_exporter": "python",
   "pygments_lexer": "ipython3",
   "version": "3.7.4"
  }
 },
 "nbformat": 4,
 "nbformat_minor": 2
}
