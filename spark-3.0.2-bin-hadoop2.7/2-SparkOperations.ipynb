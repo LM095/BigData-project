{
 "cells": [
  {
   "cell_type": "markdown",
   "metadata": {},
   "source": [
    "# Spark Data Analysis"
   ]
  },
  {
   "cell_type": "markdown",
   "metadata": {},
   "source": [
    "In this notebook, we will learn how to perform simple data analytics tasks. We will start with basic operations on a simple file, then we use the data from the airline stats.\n",
    "\n",
    "We will explore the different Spark operations, i.e., **trasformations** and **actions**, through a set of questions.\n",
    "Recall that *trasformations* are lazily evaluated, they get execute when we call an *action*.\n",
    "\n",
    "Examples of *transformations* are:\n",
    " - Narrow: map, flatMap, filter, sample, union, ...\n",
    " - Wide: reduceByKey, groupByKey, join, repartition, ...\n",
    "\n",
    "Examples of *actions* are:\n",
    " - count, collect, take, top, saveAsTextFile, ...\n"
   ]
  },
  {
   "cell_type": "markdown",
   "metadata": {},
   "source": [
    "# 1. Basic operations with Spark\n",
    "In the following, we provide some useful operations in Spark. For a complete list, see the following reference\n",
    "\n",
    "https://spark.apache.org/docs/latest/rdd-programming-guide.html\n",
    "\n",
    "## 1.1. Loading the Dataset\n",
    "\n",
    "The RDD we analyze can be derived either from a collection of data or HDFS (most common case).\n",
    "\n",
    "Parallelized collections are created by calling `SparkContext`’s `parallelize` method on an existing iterable or collection in your driver program. The elements of the collection are copied to form a distributed dataset that can be operated on in parallel. For example, here is how to create a parallelized collection holding the numbers 1 to 5:\n",
    "\n",
    "```python\n",
    "data = list(range(1,1000))\n",
    "distData = sc.parallelize(data)\n",
    "```\n",
    "\n",
    "It is possible to specify the number of partitions to cut the dataset into (e.g., if we want to split into 5 partitions, we use `sc.parallelize(data, 5)`). Typically you want 2-4 partitions for each CPU in your cluster. Normally, Spark tries to set the number of partitions automatically based on your cluster. \n",
    "\n",
    "Data from HDFS (or any other storage) can be loaded into an RDD\n",
    "Spark can create RDD from any storage source supported by Hadoop, including your local file system, HDFS, HBase, etc. Spark supports text files, SequenceFiles, and any other Hadoop InputFormat.\n",
    "\n",
    "Text file RDDs can be created using SparkContext’s textFile method. This method takes an URI for the file (either a local path on the machine, or a hdfs://, s3a://, etc URI) and reads it as a **collection of lines**. \n",
    "\n",
    "```python\n",
    "input_file = sc.textFile(\"datasets/short_stories_I.txt\")\n",
    "```\n",
    "\n",
    "Finally, you can save the results of a computation (most likely, an RDD) with:\n",
    "\n",
    "```python\n",
    "rddToBeSaved.saveAsTextFile(\"filename_with_path\")\n",
    "```"
   ]
  },
  {
   "cell_type": "markdown",
   "metadata": {},
   "source": [
    "## 1.2. Persistence\n",
    "\n",
    "If we are going to use an RDD multiple times, then we can explicitly tell Spark to keep it in RAM with `persist()`\n",
    "```python\n",
    "input_file.persist()\n",
    "```\n",
    "When you persist an RDD, each node stores any partitions of it that it computes in memory and reuses them in other actions on that dataset (or datasets derived from it). This allows future actions to be much faster.\n",
    "\n",
    "In addition, each persisted RDD can be stored using a different *storage level*, allowing you, for example, to persist the dataset on disk and in memory. For a detailed discussion on RDD Persistence, please see\n",
    "\n",
    "https://spark.apache.org/docs/latest/rdd-programming-guide.html#rdd-persistence"
   ]
  },
  {
   "cell_type": "markdown",
   "metadata": {},
   "source": [
    "## 1.3. Operations: Actions\n",
    "\n",
    "### Actions for seeing the output\n",
    "Let's start with some basic **actions**. We have already seen `saveAsTextFile()` which trigger the computation and the writing to a file. We can instead see the results at the driver program with `collect()`, which returns the elements of the dataset as an array\n",
    "\n",
    "```python\n",
    "input_file.collect()\n",
    "```"
   ]
  },
  {
   "cell_type": "markdown",
   "metadata": {},
   "source": [
    "### count()\n",
    "\n",
    "Actions that trigger the counting of the number of elements in an RDD\n",
    "```python\n",
    "input_file.count()\n",
    "```"
   ]
  },
  {
   "cell_type": "markdown",
   "metadata": {},
   "source": [
    "### take(n) and takeOrdered(n, [ordering])\n",
    "\n",
    "`take(n)` returns an array with the first `n` elements of the dataset\n",
    "```python\n",
    "input_file.take(5)\n",
    "```\n",
    "`takeOrdered(n, [ordering])` returns the first `n` elements of the RDD using either their *natural order* or a custom comparator (note that now we use the RDD `distData`)\n",
    "```python\n",
    "distData.takeOrdered(5)\n",
    "distData.takeOrdered(5, lambda x: -x)\n",
    "```"
   ]
  },
  {
   "cell_type": "markdown",
   "metadata": {},
   "source": [
    "## 1.4. Operations: Transformations\n",
    "\n",
    "### map(func)\n",
    "It returns a new RDD formed by passing *each element* of the source RDD through a function `func`.\n",
    "\n",
    "We consider a simple function, and we apply it to the  RDD `distData`\n",
    "```python\n",
    "def square(x): \n",
    "    return x*x\n",
    "\n",
    "distDataSquared = distData.map(square)\n",
    "distDataSquared.take(5)\n",
    "```\n",
    "Another example: we would like to know the number of words in each line of a file \n",
    "```python\n",
    "def wordsPerLine(s):\n",
    "    words = s.split(\" \")\n",
    "    return len(words)\n",
    "\n",
    "nWords = input_file.map(wordsPerLine)\n",
    "nWords.take(5)\n",
    "```\n",
    "There is no need to explicit a different RDD at every operation (if we do not need them for other transformations), they can be combined together\n",
    "```python\n",
    "input_file.map(wordsPerLine).take(5)\n",
    "```\n",
    "Finally, for simple functions, we can use inline functions (lambda functions)\n",
    "```python\n",
    "distData.map(lambda x: x*x).take(5)\n",
    "input_file.map(lambda line: len(line.split(\" \"))).take(5)\n",
    "```"
   ]
  },
  {
   "cell_type": "code",
   "execution_count": 14,
   "metadata": {},
   "outputs": [
    {
     "name": "stdout",
     "output_type": "stream",
     "text": [
      "[3, 1, 1, 15, 12, 3, 1, 13, 15, 8, 1, 15, 8, 1, 3, 1, 9, 1, 2, 1, 12, 1, 5, 1, 13, 1, 15, 8, 1, 17, 5, 1, 3, 1, 15, 14, 16, 1, 1, 4, 1, 16, 10, 1, 12, 14, 14, 16, 16, 12, 12, 15, 11, 14, 15, 14, 13, 1, 1, 10, 1, 16, 4, 1, 14, 15, 13, 14, 15, 13, 12, 11, 1, 1, 12, 15, 12, 11, 13, 13, 11, 15, 9, 1, 15, 14, 13, 14, 1, 1, 4, 1, 7, 1, 7, 1, 12, 4, 1, 7]\n"
     ]
    }
   ],
   "source": [
    "\n",
    "def wordsPerLine(s):\n",
    "    words = s.split(\" \")\n",
    "    return len(words)\n",
    "\n",
    "input_file = sc.textFile(\"dataset/short_stories_I.txt\")\n",
    "nWords = input_file.map(wordsPerLine)\n",
    "inputNew = input_file.map(wordsPerLine).take(100)\n",
    "print(inputNew)"
   ]
  },
  {
   "cell_type": "markdown",
   "metadata": {},
   "source": [
    "### flatMap(func)\n",
    "Similar to `map`, but the output is *flattened*. An example will make the difference clear.\n",
    "```python\n",
    "wordsWithMap = input_file.map(lambda line: line.split(\" \"))\n",
    "wordsWithFlatMap = input_file.flatMap(lambda line: line.split(\" \"))\n",
    "print(wordsWithMap.take(5))\n",
    "print(wordsWithFlatMap.take(15))\n",
    "```\n",
    "Since the `split` method produces a list, then the RDD created with `map` will be a list of lists. Instead, with `flatMap` the lists are merged in a single output list."
   ]
  },
  {
   "cell_type": "code",
   "execution_count": 15,
   "metadata": {},
   "outputs": [
    {
     "name": "stdout",
     "output_type": "stream",
     "text": [
      "[['AN', 'HONEST', 'THIEF'], [''], [''], ['One', 'morning,', 'just', 'as', 'I', 'was', 'about', 'to', 'set', 'off', 'to', 'my', 'office,', 'Agrafena,', 'my'], ['cook,', 'washerwoman', 'and', 'housekeeper,', 'came', 'in', 'to', 'me', 'and,', 'to', 'my', 'surprise,'], ['entered', 'into', 'conversation.'], [''], ['She', 'had', 'always', 'been', 'such', 'a', 'silent,', 'simple', 'creature', 'that,', 'except', 'her', 'daily'], ['inquiry', 'about', 'dinner,', 'she', 'had', 'not', 'uttered', 'a', 'word', 'for', 'the', 'last', 'six', 'years.', 'I,'], ['at', 'least,', 'had', 'heard', 'nothing', 'else', 'from', 'her.'], [''], ['\"Here', 'I', 'have', 'come', 'in', 'to', 'have', 'a', 'word', 'with', 'you,', 'sir,\"', 'she', 'began', 'abruptly;'], ['\"you', 'really', 'ought', 'to', 'let', 'the', 'little', 'room.\"'], [''], ['\"Which', 'little', 'room?\"'], [''], ['\"Why,', 'the', 'one', 'next', 'the', 'kitchen,', 'to', 'be', 'sure.\"'], [''], ['\"What', 'for?\"'], [''], ['\"What', 'for?', 'Why', 'because', 'folks', 'do', 'take', 'in', 'lodgers,', 'to', 'be', 'sure.\"'], [''], ['\"But', 'who', 'would', 'take', 'it?\"'], [''], ['\"Who', 'would', 'take', 'it?', 'Why,', 'a', 'lodger', 'would', 'take', 'it,', 'to', 'be', 'sure.\"'], [''], ['\"But,', 'my', 'good', 'woman,', 'one', 'could', 'not', 'put', 'a', 'bedstead', 'in', 'it;', 'there', \"wouldn't\", 'be'], ['room', 'to', 'move!', 'Who', 'could', 'live', 'in', 'it?\"'], [''], ['\"Who', 'wants', 'to', 'live', 'there!', 'As', 'long', 'as', 'he', 'has', 'a', 'place', 'to', 'sleep', 'in.', 'Why,', 'he'], ['would', 'live', 'in', 'the', 'window.\"'], [''], ['\"In', 'what', 'window?\"'], [''], ['\"In', 'what', 'window!', 'As', 'though', 'you', \"didn't\", 'know!', 'The', 'one', 'in', 'the', 'passage,', 'to', 'be'], ['sure.', 'He', 'would', 'sit', 'there,', 'sewing', 'or', 'doing', 'anything', 'else.', 'Maybe', 'he', 'would', 'sit'], ['on', 'a', 'chair,', 'too.', \"He's\", 'got', 'a', 'chair;', 'and', 'he', 'has', 'a', 'table,', 'too;', \"he's\", 'got'], ['everything.\"'], [''], ['\"Who', 'is', \"'he'\", 'then?\"']]\n",
      "\n",
      "['AN', 'HONEST', 'THIEF', '', '', 'One', 'morning,', 'just', 'as', 'I', 'was', 'about', 'to', 'set', 'off', 'to', 'my', 'office,', 'Agrafena,', 'my', 'cook,', 'washerwoman', 'and', 'housekeeper,', 'came', 'in', 'to', 'me', 'and,', 'to', 'my', 'surprise,', 'entered', 'into', 'conversation.', '', 'She', 'had', 'always', 'been']\n"
     ]
    }
   ],
   "source": [
    "wordsWithMap = input_file.map(lambda line: line.split(\" \"))\n",
    "wordsWithFlatMap = input_file.flatMap(lambda line: line.split(\" \"))\n",
    "print(wordsWithMap.take(40))\n",
    "print()\n",
    "print(wordsWithFlatMap.take(40))"
   ]
  },
  {
   "cell_type": "markdown",
   "metadata": {},
   "source": [
    "### filter(func)\n",
    "It returns a new RDD formed by selecting those elements of the source on which `func` returns true. Therefore, `func` should return a boolean value.\n",
    "\n",
    "```python\n",
    "input_file.filter(lambda line: len(line.split(\" \"))>5).take(10)\n",
    "```\n",
    "\n",
    "Note that this could not be with `map`, since with `map` each element maps to the element in the new RDD, and it cannot be omitted. For instance, try this\n",
    "```python\n",
    "input_file.map(lambda line: line if len(line.split(\" \"))>5 else None).take(10)\n",
    "```\n",
    "\n",
    "We can also use the `filter` to filter out empty lines from the file we are reading. We can use either `.filter(lambda x: x)` or, using the builtin function `bool`, `.filter(bool)`\n",
    "```python\n",
    "wordsWithMap = input_file.filter(bool).map(lambda line: line.split(\" \"))\n",
    "wordsWithFlatMap = input_file.filter(bool).flatMap(lambda line: line.split(\" \"))\n",
    "print(wordsWithMap.take(5))\n",
    "print(wordsWithFlatMap.take(15))\n",
    "```\n",
    "\n",
    "Note that it is always better to filter before applying `map` (but the tool usually knows that, and it does it when translating the job into a set of tasks)\n",
    "Note also that all the operations can be concatenated, as in the following example:\n",
    "```python\n",
    "lowerCaseWords = input_file.filter(bool) \\\n",
    "                    .flatMap(lambda line: line.split(\" \")) \\\n",
    "                    .map(lambda w: w.lower())\n",
    "print(lowerCaseWords.take(15))\n",
    "```"
   ]
  },
  {
   "cell_type": "code",
   "execution_count": 17,
   "metadata": {},
   "outputs": [
    {
     "name": "stdout",
     "output_type": "stream",
     "text": [
      "['an', 'honest', 'thief', 'one', 'morning,', 'just', 'as', 'i', 'was', 'about', 'to', 'set', 'off', 'to', 'my']\n"
     ]
    }
   ],
   "source": [
    "#print(input_file.filter(lambda line: len(line.split(\" \"))>5).take(10))\n",
    "#print('\\n \\n')\n",
    "#print(input_file.map(lambda line: line if len(line.split(\" \"))>5 else None).take(10))\n",
    "\n",
    "lowerCaseWords = input_file.filter(bool) \\\n",
    "                    .flatMap(lambda line: line.split(\" \")) \\\n",
    "                    .map(lambda w: w.lower())\n",
    "print(lowerCaseWords.take(15))"
   ]
  },
  {
   "cell_type": "markdown",
   "metadata": {},
   "source": [
    "### Working with key-value pairs\n",
    "\n",
    "Representing the data using a key-value is design pattern that is widely adopted to solve many problems, expecially when data need to be reorganized is different ways. For instace, it is common to group and aggregate elements by a key.\n",
    "\n",
    "For this reason, Spark has a few special operations that are only available on RDDs of key-value pairs. A key-value element in a RDD is simply a tuple with two objects (e.g., a string and an int). \n",
    "\n",
    "It is simple to create a tuple from simple elements: just apply the `map` transformation.\n",
    "```python\n",
    "wordsList = input_file.filter(bool) \\\n",
    "            .flatMap(lambda line: line.split(\" \"))\\ \n",
    "            .map(lambda w: w.lower())\n",
    "wordsKeyValue = wordsList.map(lambda w: (w,1))\n",
    "print(wordsKeyValue.take(10))\n",
    "```"
   ]
  },
  {
   "cell_type": "code",
   "execution_count": 20,
   "metadata": {},
   "outputs": [
    {
     "name": "stdout",
     "output_type": "stream",
     "text": [
      "[('an', 1), ('honest', 1), ('thief', 1), ('one', 1), ('morning,', 1), ('just', 1), ('as', 1), ('i', 1), ('was', 1), ('about', 1)]\n"
     ]
    }
   ],
   "source": [
    "wordsList = input_file.filter(bool).flatMap(lambda line: line.split(\" \")).map(lambda w: w.lower())\n",
    "wordsKeyValue = wordsList.map(lambda w: (w,1))\n",
    "print(wordsKeyValue.take(10))"
   ]
  },
  {
   "cell_type": "markdown",
   "metadata": {},
   "source": [
    "### groupByKey()\n",
    "\n",
    "When called on a dataset of (K, V) pairs, returns a dataset of (K, Iterable<V>) pairs.\n",
    "*Note*: If you are grouping in order to perform an aggregation (such as a sum or average) over each key, using `reduceByKey` will yield much better performance.\n",
    "\n",
    "Continuing the example above (except for the first line, the other are required to print the results):\n",
    "```python\n",
    "wordsGrouped = wordsKeyValue.groupByKey()\n",
    "results = wordsGrouped.take(10)\n",
    "for item in results:\n",
    "    print(item[0], \" > \", end='')\n",
    "    for elem in item[1]:\n",
    "        print(elem, \",\", end='')\n",
    "    print()\n",
    "```"
   ]
  },
  {
   "cell_type": "code",
   "execution_count": 21,
   "metadata": {},
   "outputs": [
    {
     "name": "stdout",
     "output_type": "stream",
     "text": [
      "an  > 1 ,1 ,1 ,1 ,1 ,1 ,1 ,1 ,1 ,1 ,1 ,1 ,1 ,1 ,1 ,1 ,\n",
      "thief  > 1 ,1 ,1 ,1 ,1 ,1 ,1 ,1 ,\n",
      "just  > 1 ,1 ,1 ,1 ,1 ,1 ,1 ,1 ,1 ,1 ,1 ,1 ,1 ,\n",
      "as  > 1 ,1 ,1 ,1 ,1 ,1 ,1 ,1 ,1 ,1 ,1 ,1 ,1 ,1 ,1 ,1 ,1 ,1 ,1 ,1 ,1 ,1 ,1 ,1 ,1 ,1 ,1 ,1 ,1 ,1 ,1 ,1 ,1 ,1 ,1 ,1 ,1 ,1 ,1 ,1 ,1 ,1 ,1 ,1 ,\n",
      "i  > 1 ,1 ,1 ,1 ,1 ,1 ,1 ,1 ,1 ,1 ,1 ,1 ,1 ,1 ,1 ,1 ,1 ,1 ,1 ,1 ,1 ,1 ,1 ,1 ,1 ,1 ,1 ,1 ,1 ,1 ,1 ,1 ,1 ,1 ,1 ,1 ,1 ,1 ,1 ,1 ,1 ,1 ,1 ,1 ,1 ,1 ,1 ,1 ,1 ,1 ,1 ,1 ,1 ,1 ,1 ,1 ,1 ,1 ,1 ,1 ,1 ,1 ,1 ,1 ,1 ,1 ,1 ,1 ,1 ,1 ,1 ,1 ,1 ,1 ,1 ,1 ,1 ,1 ,1 ,1 ,1 ,1 ,1 ,1 ,1 ,1 ,1 ,1 ,1 ,1 ,1 ,1 ,1 ,1 ,1 ,1 ,1 ,1 ,1 ,1 ,1 ,1 ,1 ,1 ,1 ,1 ,1 ,1 ,1 ,1 ,1 ,1 ,1 ,1 ,1 ,1 ,1 ,1 ,1 ,1 ,1 ,1 ,1 ,1 ,1 ,1 ,1 ,1 ,1 ,1 ,1 ,1 ,1 ,1 ,1 ,1 ,1 ,1 ,1 ,1 ,1 ,1 ,1 ,1 ,1 ,1 ,1 ,1 ,1 ,1 ,1 ,1 ,1 ,1 ,1 ,1 ,1 ,1 ,1 ,1 ,1 ,1 ,1 ,1 ,1 ,1 ,1 ,1 ,1 ,1 ,1 ,1 ,1 ,1 ,1 ,1 ,1 ,1 ,1 ,1 ,1 ,1 ,1 ,1 ,1 ,1 ,1 ,1 ,1 ,1 ,1 ,1 ,1 ,1 ,1 ,1 ,1 ,1 ,1 ,1 ,1 ,1 ,1 ,1 ,1 ,1 ,1 ,1 ,1 ,1 ,1 ,1 ,1 ,1 ,1 ,1 ,1 ,1 ,1 ,1 ,1 ,1 ,1 ,1 ,1 ,1 ,1 ,1 ,1 ,1 ,1 ,1 ,1 ,1 ,1 ,1 ,1 ,1 ,\n",
      "was  > 1 ,1 ,1 ,1 ,1 ,1 ,1 ,1 ,1 ,1 ,1 ,1 ,1 ,1 ,1 ,1 ,1 ,1 ,1 ,1 ,1 ,1 ,1 ,1 ,1 ,1 ,1 ,1 ,1 ,1 ,1 ,1 ,1 ,1 ,1 ,1 ,1 ,1 ,1 ,1 ,1 ,1 ,1 ,1 ,1 ,1 ,1 ,1 ,1 ,1 ,1 ,1 ,1 ,1 ,1 ,1 ,1 ,1 ,1 ,1 ,1 ,1 ,1 ,1 ,1 ,1 ,1 ,1 ,1 ,1 ,1 ,1 ,1 ,1 ,1 ,1 ,1 ,1 ,1 ,1 ,1 ,1 ,1 ,1 ,1 ,1 ,1 ,1 ,1 ,1 ,1 ,1 ,1 ,1 ,1 ,1 ,1 ,1 ,1 ,1 ,1 ,1 ,1 ,1 ,1 ,1 ,1 ,1 ,1 ,1 ,\n",
      "set  > 1 ,1 ,1 ,1 ,1 ,1 ,1 ,1 ,\n",
      "agrafena,  > 1 ,1 ,\n",
      "washerwoman  > 1 ,\n",
      "housekeeper,  > 1 ,\n"
     ]
    }
   ],
   "source": [
    "wordsGrouped = wordsKeyValue.groupByKey()\n",
    "results = wordsGrouped.take(10)\n",
    "for item in results:\n",
    "    print(item[0], \" > \", end='')\n",
    "    for elem in item[1]:\n",
    "        print(elem, \",\", end='')\n",
    "    print()"
   ]
  },
  {
   "cell_type": "markdown",
   "metadata": {},
   "source": [
    "### reduceByKey(func)\n",
    "\n",
    "When called on a dataset of (K, V) pairs, returns a dataset of (K, V) pairs where the values for each key are aggregated using the given reduce function `func`, which must be of type (V,V) => V.\n",
    "\n",
    "Continuing the example above:\n",
    "```python\n",
    "wordsReduceBy = wordsKeyValue.reduceByKey(lambda a,b: a+b)\n",
    "print(wordsReduceBy.take(10))\n",
    "```"
   ]
  },
  {
   "cell_type": "code",
   "execution_count": 22,
   "metadata": {},
   "outputs": [
    {
     "name": "stdout",
     "output_type": "stream",
     "text": [
      "[('an', 16), ('thief', 8), ('just', 13), ('as', 44), ('i', 238), ('was', 110), ('set', 8), ('agrafena,', 2), ('washerwoman', 1), ('housekeeper,', 1)]\n"
     ]
    }
   ],
   "source": [
    "wordsReduceBy = wordsKeyValue.reduceByKey(lambda a,b: a+b)\n",
    "print(wordsReduceBy.take(10))"
   ]
  },
  {
   "cell_type": "markdown",
   "metadata": {},
   "source": [
    "### Wordcount - full example\n",
    "\n",
    "As a final example, let's see the full Wordcount problem.\n",
    "We are interested in the top-10 words in terms of number of occurrences."
   ]
  },
  {
   "cell_type": "code",
   "execution_count": 24,
   "metadata": {
    "scrolled": true
   },
   "outputs": [
    {
     "data": {
      "image/png": "[encoded data removed]",
      "text/plain": [
       "<Figure size 432x288 with 1 Axes>"
      ]
     },
     "metadata": {
      "needs_background": "light"
     },
     "output_type": "display_data"
    }
   ],
   "source": [
    "words = sc.textFile(\"dataset/short_stories_I.txt\").filter(bool) \\\n",
    "            .flatMap(lambda line: line.split(\" \")) \\\n",
    "            .map(lambda w: w.lower()) \\\n",
    "            .map(lambda w: (w, 1)) \\\n",
    "            .reduceByKey(lambda v1, v2: v1 + v2) \\\n",
    "            .map(lambda x: (x[1], x[0])) \\\n",
    "            .sortByKey(False)\n",
    "top10 = words.take(10)\n",
    "%matplotlib inline\n",
    "import matplotlib.pyplot as plt\n",
    "\n",
    "# extract the frequencies from the result\n",
    "frequencies = [x[0] for x in top10]\n",
    "x_indexes = list(range(0,10))\n",
    "x_labels = [x[1] for x in top10]\n",
    "plt.xticks(x_indexes, x_labels)\n",
    "\n",
    "# plot the frequencies\n",
    "plt.plot(frequencies)\n",
    "plt.show()"
   ]
  },
  {
   "cell_type": "markdown",
   "metadata": {},
   "source": [
    "# 2. Airline Data Analysis\n",
    "\n",
    "## 2.1 Use case\n",
    "\n",
    "In this notebook, we play the role of a data scientist working in the travel industry, specifically on air transportation of passengers. We want to explore the data related to airline activities to understand passengers' behavior, as well as the properties of all flights, across several airline companies.\n",
    "\n",
    "The dataset can be found at\n",
    "http://stat-computing.org/dataexpo/2009/the-data.html\n",
    "\n",
    "It contains 29 features, that can be either categorical or numerical. For example, the ```Origin``` (source airport) is categorical: there exist no comparison operator between airport names. We can not say \"SGN is bigger than NCE\". The ```DepTime``` (departure time) feature is numerical, for which a comparison operator exists. For instance, \"flight departing before 6PM\" can be express by \"DepTime < 1800\". The structure of each line is as follows:\n",
    "\n",
    "`\n",
    "1\t Year\t1987-2008\n",
    "2\t Month\t1-12\n",
    "3\t DayofMonth\t1-31\n",
    "4\t DayOfWeek\t1 (Monday) - 7 (Sunday)\n",
    "5\t DepTime\tactual departure time (local, hhmm)\n",
    "6\t CRSDepTime\tscheduled departure time (local, hhmm)\n",
    "7\t ArrTime\tactual arrival time (local, hhmm)\n",
    "8\t CRSArrTime\tscheduled arrival time (local, hhmm)\n",
    "9\t UniqueCarrier\tunique carrier code\n",
    "10\t FlightNum\tflight number\n",
    "11\t TailNum\tplane tail number\n",
    "12\t ActualElapsedTime\tin minutes\n",
    "13\t CRSElapsedTime\tin minutes\n",
    "14\t AirTime\tin minutes\n",
    "15\t ArrDelay\tarrival delay, in minutes\n",
    "16\t DepDelay\tdeparture delay, in minutes\n",
    "17\t Origin\torigin IATA airport code\n",
    "18\t Dest\tdestination IATA airport code\n",
    "19\t Distance\tin miles\n",
    "20\t TaxiIn\ttaxi in time, in minutes\n",
    "21\t TaxiOut\ttaxi out time in minutes\n",
    "22\t Cancelled\twas the flight cancelled?\n",
    "23\t CancellationCode\treason for cancellation (A = carrier, B = weather, C = NAS, D = security)\n",
    "24\t Diverted\t1 = yes, 0 = no\n",
    "25\t CarrierDelay\tin minutes\n",
    "26\t WeatherDelay\tin minutes\n",
    "27\t NASDelay\tin minutes\n",
    "28\t SecurityDelay\tin minutes\n",
    "29\t LateAircraftDelay\tin minutes\n",
    "`\n",
    "\n",
    "There is a single CSV file per year, you may download some years and put them in a directory. Then you could work on individual years, or feed the entire directory to your jobs such that you can process all years.\n",
    "\n",
    "This is what the beginning of a file looks like:\n",
    "\n",
    "`\n",
    "Year,Month,DayofMonth,DayOfWeek,DepTime,CRSDepTime,ArrTime,CRSArrTime,UniqueCarrier,FlightNum,TailNum,ActualElapsedTime,CRSElapsedTime,AirTime,ArrDelay,DepDelay,Origin,Dest,Distance,TaxiIn,TaxiOut,Cancelled,CancellationCode,Diverted,CarrierDelay,WeatherDelay,NASDelay,SecurityDelay,LateAircraftDelay\n",
    "1994,1,7,5,858,900,954,1003,US,227,NA,56,63,NA,-9,-2,CLT,ORF,290,NA,NA,0,NA,0,NA,NA,NA,NA,NA\n",
    "1994,1,8,6,859,900,952,1003,US,227,NA,53,63,NA,-11,-1,CLT,ORF,290,NA,NA,0,NA,0,NA,NA,NA,NA,NA\n",
    "1994,1,10,1,935,900,1023,1003,US,227,NA,48,63,NA,20,35,CLT,ORF,290,NA,NA,0,NA,0,NA,NA,NA,NA,NA\n",
    "1994,1,11,2,903,900,1131,1003,US,227,NA,148,63,NA,88,3,CLT,ORF,290,NA,NA,0,NA,0,NA,NA,NA,NA,NA\n",
    "1994,1,12,3,933,900,1024,1003,US,227,NA,51,63,NA,21,33,CLT,ORF,290,NA,NA,0,NA,0,NA,NA,NA,NA,NA\n",
    "1994,1,13,4,NA,900,NA,1003,US,227,NA,NA,63,NA,NA,NA,CLT,ORF,290,NA,NA,1,NA,0,NA,NA,NA,NA,NA\n",
    "`\n",
    "\n",
    "Each file contains a header, that is useless when analyzing the data: it serves the purpose of an \"embedded schema\", to help data scientist figure out what information is available. Note that there are some features with missing values in some lines of the dataset. The missing values are marked by \"NA\". These values can cause problems when processing the data and can lead to unexpected results. Therefore, we need to remove the header and replace all \"NA\" values by empty values, such as they can be interpreted as null values."
   ]
  },
  {
   "cell_type": "markdown",
   "metadata": {},
   "source": [
    "## 2.2 Data exploration\n",
    "\n",
    "In order to start understanding the dataset, we may answer to some basic questions:\n",
    "\n",
    " - How many unique origin airports?\n",
    " - How many unique destination airports?\n",
    " - How many carriers?\n",
    " - How many night flights do we have in our data? (\"night\" starts at 6pm)\n",
    " - How many night flights per unique carrier?\n",
    "\n",
    "Here there are some hints...\n",
    "```python\n",
    "# load the data\n",
    "rawData = sc.textFile(\"datasets/1994_sample.csv\")\n",
    "# extract header\n",
    "header = rawData.first() \n",
    "# remove the header, separate the elements for each row\n",
    "data = rawData.filter(lambda row: row != header).map(lambda row : row.split(\",\")) \n",
    "# put the data in cache\n",
    "data.persist()\n",
    "# check the output\n",
    "print(data.take(3))\n",
    "\n",
    "# unique origin airports: element 16 of each line (the .keys() may not be necessary)\n",
    "data.map(lambda x: (x[16], 1)).groupByKey().keys().count()\n",
    "\n",
    "\n",
    "# flights that start after 6pm\n",
    "data.filter(lambda x: x[4] != \"NA\" and int(x[4]) > 1800).count()\n",
    "\n",
    "\n",
    "```"
   ]
  },
  {
   "cell_type": "code",
   "execution_count": 25,
   "metadata": {},
   "outputs": [
    {
     "name": "stdout",
     "output_type": "stream",
     "text": [
      "[['1994', '1', '7', '5', '858', '900', '954', '1003', 'US', '227', 'NA', '56', '63', 'NA', '-9', '-2', 'CLT', 'ORF', '290', 'NA', 'NA', '0', 'NA', '0', 'NA', 'NA', 'NA', 'NA', 'NA'], ['1994', '1', '8', '6', '859', '900', '952', '1003', 'US', '227', 'NA', '53', '63', 'NA', '-11', '-1', 'CLT', 'ORF', '290', 'NA', 'NA', '0', 'NA', '0', 'NA', 'NA', 'NA', 'NA', 'NA'], ['1994', '1', '10', '1', '935', '900', '1023', '1003', 'US', '227', 'NA', '48', '63', 'NA', '20', '35', 'CLT', 'ORF', '290', 'NA', 'NA', '0', 'NA', '0', 'NA', 'NA', 'NA', 'NA', 'NA']]\n"
     ]
    },
    {
     "data": {
      "text/plain": [
       "1120108"
      ]
     },
     "execution_count": 25,
     "metadata": {},
     "output_type": "execute_result"
    }
   ],
   "source": [
    "# load the data\n",
    "rawData = sc.textFile(\"dataset/1994.csv\")\n",
    "# extract header\n",
    "header = rawData.first() \n",
    "# remove the header, separate the elements for each row\n",
    "data = rawData.filter(lambda row: row != header).map(lambda row : row.split(\",\")) \n",
    "# put the data in cache\n",
    "data.persist()\n",
    "# check the output\n",
    "print(data.take(3))\n",
    "\n",
    "# unique origin airports: element 16 of each line (the .keys() may not be necessary)\n",
    "data.map(lambda x: (x[16], 1)).groupByKey().keys().count()\n",
    "\n",
    "# flights that start after 6pm\n",
    "data.filter(lambda x: x[4] != \"NA\" and int(x[4]) > 1800).count()\n"
   ]
  },
  {
   "cell_type": "code",
   "execution_count": 2,
   "metadata": {},
   "outputs": [
    {
     "data": {
      "text/plain": [
       "PythonRDD[8] at RDD at PythonRDD.scala:53"
      ]
     },
     "execution_count": 2,
     "metadata": {},
     "output_type": "execute_result"
    }
   ],
   "source": [
    "# load the data\n",
    "rawData = sc.textFile(\"dataset/1994.csv\")\n",
    "# extract header\n",
    "header = rawData.first() \n",
    "# remove the header, separate the elements for each row\n",
    "data = rawData.filter(lambda row: row != header).map(lambda row : row.split(\",\")) \n",
    "# put the data in cache\n",
    "data.persist()\n"
   ]
  },
  {
   "cell_type": "code",
   "execution_count": 40,
   "metadata": {
    "scrolled": true
   },
   "outputs": [
    {
     "name": "stdout",
     "output_type": "stream",
     "text": [
      "+------+--------------------+--------------+------+------+------+----------+\n",
      "|    id|               title|         genre|userId|    id|rating| timestamp|\n",
      "+------+--------------------+--------------+------+------+------+----------+\n",
      "|100553|Frozen Planet (2011)|   Documentary|   105|100553|   4.5|1446572398|\n",
      "|100553|Frozen Planet (2011)|   Documentary|   318|100553|   4.5|1426353247|\n",
      "|102684|Only God Forgives...|Drama|Thriller|   249|102684|   3.5|1376654552|\n",
      "|102684|Only God Forgives...|Drama|Thriller|   380|102684|   4.0|1494709199|\n",
      "|  1090|      Platoon (1986)|     Drama|War|     1|  1090|   4.0| 964984018|\n",
      "|  1090|      Platoon (1986)|     Drama|War|    17|  1090|   4.5|1322629080|\n",
      "|  1090|      Platoon (1986)|     Drama|War|    36|  1090|   2.5|1100803399|\n",
      "|  1090|      Platoon (1986)|     Drama|War|    42|  1090|   5.0| 996212773|\n",
      "|  1090|      Platoon (1986)|     Drama|War|    51|  1090|   3.0|1230932491|\n",
      "|  1090|      Platoon (1986)|     Drama|War|    59|  1090|   4.0| 953610028|\n",
      "|  1090|      Platoon (1986)|     Drama|War|    61|  1090|   4.0|1145532596|\n",
      "|  1090|      Platoon (1986)|     Drama|War|    64|  1090|   5.0|1161528856|\n",
      "|  1090|      Platoon (1986)|     Drama|War|    66|  1090|   4.0|1093747746|\n",
      "|  1090|      Platoon (1986)|     Drama|War|    68|  1090|   2.5|1240093386|\n",
      "|  1090|      Platoon (1986)|     Drama|War|    75|  1090|   1.0|1158967824|\n",
      "|  1090|      Platoon (1986)|     Drama|War|    83|  1090|   1.5|1333842149|\n",
      "|  1090|      Platoon (1986)|     Drama|War|    84|  1090|   4.0| 858772239|\n",
      "|  1090|      Platoon (1986)|     Drama|War|   122|  1090|   5.0|1461562305|\n",
      "|  1090|      Platoon (1986)|     Drama|War|   140|  1090|   4.0|1055092338|\n",
      "|  1090|      Platoon (1986)|     Drama|War|   160|  1090|   5.0| 971112754|\n",
      "|  1090|      Platoon (1986)|     Drama|War|   182|  1090|   5.0|1054781436|\n",
      "|  1090|      Platoon (1986)|     Drama|War|   194|  1090|   4.5|1110316671|\n",
      "|  1090|      Platoon (1986)|     Drama|War|   195|  1090|   5.0| 974710189|\n",
      "|  1090|      Platoon (1986)|     Drama|War|   202|  1090|   5.0| 974912698|\n",
      "|  1090|      Platoon (1986)|     Drama|War|   204|  1090|   4.0|1327183736|\n",
      "|  1090|      Platoon (1986)|     Drama|War|   218|  1090|   3.0|1111624837|\n",
      "|  1090|      Platoon (1986)|     Drama|War|   221|  1090|   4.5|1111178155|\n",
      "|  1090|      Platoon (1986)|     Drama|War|   239|  1090|   4.5|1221159358|\n",
      "|  1090|      Platoon (1986)|     Drama|War|   244|  1090|   5.0| 975075169|\n",
      "|  1090|      Platoon (1986)|     Drama|War|   264|  1090|   3.0|1136978280|\n",
      "|  1090|      Platoon (1986)|     Drama|War|   266|  1090|   5.0| 944891645|\n",
      "|  1090|      Platoon (1986)|     Drama|War|   274|  1090|   4.0|1171943610|\n",
      "|  1090|      Platoon (1986)|     Drama|War|   287|  1090|   3.0|1110229868|\n",
      "|  1090|      Platoon (1986)|     Drama|War|   288|  1090|   4.5|1054568506|\n",
      "|  1090|      Platoon (1986)|     Drama|War|   290|  1090|   4.0| 974938908|\n",
      "|  1090|      Platoon (1986)|     Drama|War|   305|  1090|   5.0|1462397928|\n",
      "|  1090|      Platoon (1986)|     Drama|War|   312|  1090|   4.0|1043177095|\n",
      "|  1090|      Platoon (1986)|     Drama|War|   318|  1090|   4.0|1292760177|\n",
      "|  1090|      Platoon (1986)|     Drama|War|   325|  1090|   5.0|1039399280|\n",
      "|  1090|      Platoon (1986)|     Drama|War|   368|  1090|   5.0| 971273268|\n",
      "|  1090|      Platoon (1986)|     Drama|War|   372|  1090|   4.0| 874416661|\n",
      "|  1090|      Platoon (1986)|     Drama|War|   384|  1090|   4.0| 994038103|\n",
      "|  1090|      Platoon (1986)|     Drama|War|   387|  1090|   3.5|1094877353|\n",
      "|  1090|      Platoon (1986)|     Drama|War|   391|  1090|   4.0|1032389993|\n",
      "|  1090|      Platoon (1986)|     Drama|War|   414|  1090|   5.0| 961512475|\n",
      "|  1090|      Platoon (1986)|     Drama|War|   419|  1090|   4.0|1321766180|\n",
      "|  1090|      Platoon (1986)|     Drama|War|   434|  1090|   5.0|1270603951|\n",
      "|  1090|      Platoon (1986)|     Drama|War|   437|  1090|   5.0| 859721463|\n",
      "|  1090|      Platoon (1986)|     Drama|War|   448|  1090|   4.0|1019137594|\n",
      "|  1090|      Platoon (1986)|     Drama|War|   449|  1090|   3.5|1053200232|\n",
      "+------+--------------------+--------------+------+------+------+----------+\n",
      "only showing top 50 rows\n",
      "\n"
     ]
    }
   ],
   "source": [
    "import csv\n",
    "# load the data\n",
    "rawData = sc.textFile(\"dataset/movies.csv\")\n",
    "rawData2 = sc.textFile(\"dataset/ratings.csv\")\n",
    "# extract header\n",
    "header = rawData.first() \n",
    "header2 = rawData2.first() \n",
    "# remove the header, separate the elements for each row\n",
    "data = rawData.map(lambda row: next(csv.reader(row.splitlines(), skipinitialspace=True)))\n",
    "data2 = rawData2.map(lambda row: next(csv.reader(row.splitlines(), skipinitialspace=True)))\n",
    "#data = rawData.filter(lambda row: row != header).map(lambda row : row.split(\",\")) \n",
    "#data2 = rawData2.filter(lambda row: row != header2).map(lambda row : row.split(\",\")) \n",
    "# put the data in cache\n",
    "data.persist()\n",
    "data2.persist()\n",
    "prova = data.join(data2)\n",
    "tabella = spark.createDataFrame(data, ['id', 'title','genre'])\n",
    "tabella2 = spark.createDataFrame(data2, ['userId','id','rating', 'timestamp' ])\n",
    "\n",
    "\n",
    "movies = tabella.alias('movies')\n",
    "ratings = tabella2.alias('ratings')\n",
    "inner_join = movies.join(ratings, movies.id == ratings.id)\n",
    "inner_join.show(50)\n"
   ]
  },
  {
   "cell_type": "code",
   "execution_count": null,
   "metadata": {},
   "outputs": [],
   "source": []
  },
  {
   "cell_type": "markdown",
   "metadata": {},
   "source": [
    "## 2.3 Various queries\n",
    "In the following, there is a set of queries. Each result can be plot so that to better understand the results. For instance, the plot of the first query could be the airport code on the x-axis and the volume of traffic on the y-axis.\n",
    "\n",
    "### Question Q1: Top 20 airports by total volume of flights\n",
    "<div class=\"alert alert-info\">\n",
    "What are the busiest airports by total flight traffic. JFK will feature, but what are the others? For each airport code compute the number of inbound, outbound and all flights. Variation on the theme: compute the above by day, week, month, and over the years.\n",
    "</div>"
   ]
  },
  {
   "cell_type": "code",
   "execution_count": 3,
   "metadata": {},
   "outputs": [
    {
     "name": "stdout",
     "output_type": "stream",
     "text": [
      "[('ORD', 561461), ('DFW', 516523), ('ATL', 443074), ('LAX', 306453), ('STL', 304409), ('DEN', 285526), ('PHX', 280560), ('DTW', 276272), ('PIT', 262939), ('CLT', 259712), ('MSP', 247980), ('SFO', 235478), ('EWR', 233991), ('IAH', 208591), ('LGA', 203362), ('BOS', 199696), ('LAS', 189920), ('PHL', 186897), ('DCA', 176115), ('MCO', 153720)]\n"
     ]
    }
   ],
   "source": [
    "total_vol = (data.map(lambda x: (x[16],1))\n",
    "                  .union(data.map(lambda x: (x[17],1)))\n",
    "                  .reduceByKey(lambda a,b: a+b)\n",
    "                  .takeOrdered(20, key = lambda x: -x[1]))\n",
    "print(total_vol)\n"
   ]
  },
  {
   "cell_type": "code",
   "execution_count": 10,
   "metadata": {},
   "outputs": [
    {
     "name": "stdout",
     "output_type": "stream",
     "text": [
      "[(('ORD', '1'), 47070), (('DFW', '1'), 43052), (('ATL', '1'), 38734), (('DEN', '1'), 25839), (('LAX', '1'), 24418), (('PHX', '1'), 23005), (('STL', '1'), 22627), (('DTW', '1'), 21641), (('PIT', '1'), 21034), (('CLT', '1'), 20046), (('MSP', '1'), 19945), (('SFO', '1'), 19245), (('EWR', '1'), 19168), (('LGA', '1'), 17179), (('BOS', '1'), 16806), (('IAH', '1'), 16267), (('PHL', '1'), 15782), (('LAS', '1'), 15078), (('DCA', '1'), 14610), (('MIA', '1'), 12281)]\n"
     ]
    }
   ],
   "source": [
    "total_vol = (data.map(lambda x: ((x[16], x[1]),1))\n",
    "                  .union(data.map(lambda x: ((x[17], x[1]), 1)))\n",
    "                  .reduceByKey(lambda a,b: a+b))\n",
    "                  \n",
    "total_fliter_jan = (total_vol.filter(lambda x: (int(x[0][1]) == 1)).takeOrdered(20, key = lambda x: -x[1]))#gennaio\n",
    "\n",
    "print(total_fliter_jan)"
   ]
  },
  {
   "cell_type": "markdown",
   "metadata": {},
   "source": [
    "### Question Q2: Carrier Popularity\n",
    "<div class=\"alert alert-info\">\n",
    "Some carriers come and go, others demonstrate regular growth. Compute the (log base 10) volume -- total flights -- over each year, by carrier. The carriers are ranked by their median volume (over the 4 year span).\n",
    "</div>"
   ]
  },
  {
   "cell_type": "markdown",
   "metadata": {},
   "source": [
    "### Question Q3: Proportion of Flights Delayed\n",
    "<div class=\"alert alert-info\">\n",
    "A flight is delayed if the delay is greater than 15 minutes. Compute the fraction of delayed flights per different time granularities (hour, day, week, month, year).\n",
    "</div>"
   ]
  },
  {
   "cell_type": "markdown",
   "metadata": {},
   "source": [
    "### Question Q4: Carrier Delays\n",
    "<div class=\"alert alert-info\">\n",
    "Is there a difference in carrier delays? Compute the proportion of delayed flights by carrier, ranked by carrier, at different time granularities (hour, day, week, month year). Again, a flight is delayed if the delay is greater than 15 minutes.\n",
    "</div>"
   ]
  },
  {
   "cell_type": "markdown",
   "metadata": {},
   "source": [
    "### Question Q5: Busy Routes\n",
    "<div class=\"alert alert-info\">\n",
    "Which routes are the busiest? A simple first approach is to create a frequency table for the unordered pair *(i,j)* where *i* and *j* are distinct airport codes.\n",
    "</div>"
   ]
  }
 ],
 "metadata": {
  "kernelspec": {
   "display_name": "Python 3",
   "language": "python",
   "name": "python3"
  },
  "language_info": {
   "codemirror_mode": {
    "name": "ipython",
    "version": 3
   },
   "file_extension": ".py",
   "mimetype": "text/x-python",
   "name": "python",
   "nbconvert_exporter": "python",
   "pygments_lexer": "ipython3",
   "version": "3.7.4"
  }
 },
 "nbformat": 4,
 "nbformat_minor": 2
}
